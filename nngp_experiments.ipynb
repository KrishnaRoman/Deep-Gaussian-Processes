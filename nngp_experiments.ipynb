{
 "cells": [
  {
   "cell_type": "code",
   "execution_count": 1,
   "metadata": {
    "Collapsed": "false",
    "ExecuteTime": {
     "end_time": "2020-04-21T14:34:00.008987Z",
     "start_time": "2020-04-21T14:33:59.999689Z"
    },
    "id": "cJdlR9ZnrHcg",
    "outputId": "287107d9-6a39-49d7-a6d9-1167667fa909"
   },
   "outputs": [
    {
     "data": {
      "text/html": [
       "\n",
       "    <div class=\"bk-root\">\n",
       "        <a href=\"https://bokeh.org\" target=\"_blank\" class=\"bk-logo bk-logo-small bk-logo-notebook\"></a>\n",
       "        <span id=\"1002\">Loading BokehJS ...</span>\n",
       "    </div>"
      ]
     },
     "metadata": {},
     "output_type": "display_data"
    },
    {
     "data": {
      "application/javascript": [
       "\n",
       "(function(root) {\n",
       "  function now() {\n",
       "    return new Date();\n",
       "  }\n",
       "\n",
       "  var force = true;\n",
       "\n",
       "  if (typeof root._bokeh_onload_callbacks === \"undefined\" || force === true) {\n",
       "    root._bokeh_onload_callbacks = [];\n",
       "    root._bokeh_is_loading = undefined;\n",
       "  }\n",
       "\n",
       "  var JS_MIME_TYPE = 'application/javascript';\n",
       "  var HTML_MIME_TYPE = 'text/html';\n",
       "  var EXEC_MIME_TYPE = 'application/vnd.bokehjs_exec.v0+json';\n",
       "  var CLASS_NAME = 'output_bokeh rendered_html';\n",
       "\n",
       "  /**\n",
       "   * Render data to the DOM node\n",
       "   */\n",
       "  function render(props, node) {\n",
       "    var script = document.createElement(\"script\");\n",
       "    node.appendChild(script);\n",
       "  }\n",
       "\n",
       "  /**\n",
       "   * Handle when an output is cleared or removed\n",
       "   */\n",
       "  function handleClearOutput(event, handle) {\n",
       "    var cell = handle.cell;\n",
       "\n",
       "    var id = cell.output_area._bokeh_element_id;\n",
       "    var server_id = cell.output_area._bokeh_server_id;\n",
       "    // Clean up Bokeh references\n",
       "    if (id != null && id in Bokeh.index) {\n",
       "      Bokeh.index[id].model.document.clear();\n",
       "      delete Bokeh.index[id];\n",
       "    }\n",
       "\n",
       "    if (server_id !== undefined) {\n",
       "      // Clean up Bokeh references\n",
       "      var cmd = \"from bokeh.io.state import curstate; print(curstate().uuid_to_server['\" + server_id + \"'].get_sessions()[0].document.roots[0]._id)\";\n",
       "      cell.notebook.kernel.execute(cmd, {\n",
       "        iopub: {\n",
       "          output: function(msg) {\n",
       "            var id = msg.content.text.trim();\n",
       "            if (id in Bokeh.index) {\n",
       "              Bokeh.index[id].model.document.clear();\n",
       "              delete Bokeh.index[id];\n",
       "            }\n",
       "          }\n",
       "        }\n",
       "      });\n",
       "      // Destroy server and session\n",
       "      var cmd = \"import bokeh.io.notebook as ion; ion.destroy_server('\" + server_id + \"')\";\n",
       "      cell.notebook.kernel.execute(cmd);\n",
       "    }\n",
       "  }\n",
       "\n",
       "  /**\n",
       "   * Handle when a new output is added\n",
       "   */\n",
       "  function handleAddOutput(event, handle) {\n",
       "    var output_area = handle.output_area;\n",
       "    var output = handle.output;\n",
       "\n",
       "    // limit handleAddOutput to display_data with EXEC_MIME_TYPE content only\n",
       "    if ((output.output_type != \"display_data\") || (!Object.prototype.hasOwnProperty.call(output.data, EXEC_MIME_TYPE))) {\n",
       "      return\n",
       "    }\n",
       "\n",
       "    var toinsert = output_area.element.find(\".\" + CLASS_NAME.split(' ')[0]);\n",
       "\n",
       "    if (output.metadata[EXEC_MIME_TYPE][\"id\"] !== undefined) {\n",
       "      toinsert[toinsert.length - 1].firstChild.textContent = output.data[JS_MIME_TYPE];\n",
       "      // store reference to embed id on output_area\n",
       "      output_area._bokeh_element_id = output.metadata[EXEC_MIME_TYPE][\"id\"];\n",
       "    }\n",
       "    if (output.metadata[EXEC_MIME_TYPE][\"server_id\"] !== undefined) {\n",
       "      var bk_div = document.createElement(\"div\");\n",
       "      bk_div.innerHTML = output.data[HTML_MIME_TYPE];\n",
       "      var script_attrs = bk_div.children[0].attributes;\n",
       "      for (var i = 0; i < script_attrs.length; i++) {\n",
       "        toinsert[toinsert.length - 1].firstChild.setAttribute(script_attrs[i].name, script_attrs[i].value);\n",
       "        toinsert[toinsert.length - 1].firstChild.textContent = bk_div.children[0].textContent\n",
       "      }\n",
       "      // store reference to server id on output_area\n",
       "      output_area._bokeh_server_id = output.metadata[EXEC_MIME_TYPE][\"server_id\"];\n",
       "    }\n",
       "  }\n",
       "\n",
       "  function register_renderer(events, OutputArea) {\n",
       "\n",
       "    function append_mime(data, metadata, element) {\n",
       "      // create a DOM node to render to\n",
       "      var toinsert = this.create_output_subarea(\n",
       "        metadata,\n",
       "        CLASS_NAME,\n",
       "        EXEC_MIME_TYPE\n",
       "      );\n",
       "      this.keyboard_manager.register_events(toinsert);\n",
       "      // Render to node\n",
       "      var props = {data: data, metadata: metadata[EXEC_MIME_TYPE]};\n",
       "      render(props, toinsert[toinsert.length - 1]);\n",
       "      element.append(toinsert);\n",
       "      return toinsert\n",
       "    }\n",
       "\n",
       "    /* Handle when an output is cleared or removed */\n",
       "    events.on('clear_output.CodeCell', handleClearOutput);\n",
       "    events.on('delete.Cell', handleClearOutput);\n",
       "\n",
       "    /* Handle when a new output is added */\n",
       "    events.on('output_added.OutputArea', handleAddOutput);\n",
       "\n",
       "    /**\n",
       "     * Register the mime type and append_mime function with output_area\n",
       "     */\n",
       "    OutputArea.prototype.register_mime_type(EXEC_MIME_TYPE, append_mime, {\n",
       "      /* Is output safe? */\n",
       "      safe: true,\n",
       "      /* Index of renderer in `output_area.display_order` */\n",
       "      index: 0\n",
       "    });\n",
       "  }\n",
       "\n",
       "  // register the mime type if in Jupyter Notebook environment and previously unregistered\n",
       "  if (root.Jupyter !== undefined) {\n",
       "    var events = require('base/js/events');\n",
       "    var OutputArea = require('notebook/js/outputarea').OutputArea;\n",
       "\n",
       "    if (OutputArea.prototype.mime_types().indexOf(EXEC_MIME_TYPE) == -1) {\n",
       "      register_renderer(events, OutputArea);\n",
       "    }\n",
       "  }\n",
       "\n",
       "  \n",
       "  if (typeof (root._bokeh_timeout) === \"undefined\" || force === true) {\n",
       "    root._bokeh_timeout = Date.now() + 5000;\n",
       "    root._bokeh_failed_load = false;\n",
       "  }\n",
       "\n",
       "  var NB_LOAD_WARNING = {'data': {'text/html':\n",
       "     \"<div style='background-color: #fdd'>\\n\"+\n",
       "     \"<p>\\n\"+\n",
       "     \"BokehJS does not appear to have successfully loaded. If loading BokehJS from CDN, this \\n\"+\n",
       "     \"may be due to a slow or bad network connection. Possible fixes:\\n\"+\n",
       "     \"</p>\\n\"+\n",
       "     \"<ul>\\n\"+\n",
       "     \"<li>re-rerun `output_notebook()` to attempt to load from CDN again, or</li>\\n\"+\n",
       "     \"<li>use INLINE resources instead, as so:</li>\\n\"+\n",
       "     \"</ul>\\n\"+\n",
       "     \"<code>\\n\"+\n",
       "     \"from bokeh.resources import INLINE\\n\"+\n",
       "     \"output_notebook(resources=INLINE)\\n\"+\n",
       "     \"</code>\\n\"+\n",
       "     \"</div>\"}};\n",
       "\n",
       "  function display_loaded() {\n",
       "    var el = document.getElementById(\"1002\");\n",
       "    if (el != null) {\n",
       "      el.textContent = \"BokehJS is loading...\";\n",
       "    }\n",
       "    if (root.Bokeh !== undefined) {\n",
       "      if (el != null) {\n",
       "        el.textContent = \"BokehJS \" + root.Bokeh.version + \" successfully loaded.\";\n",
       "      }\n",
       "    } else if (Date.now() < root._bokeh_timeout) {\n",
       "      setTimeout(display_loaded, 100)\n",
       "    }\n",
       "  }\n",
       "\n",
       "\n",
       "  function run_callbacks() {\n",
       "    try {\n",
       "      root._bokeh_onload_callbacks.forEach(function(callback) {\n",
       "        if (callback != null)\n",
       "          callback();\n",
       "      });\n",
       "    } finally {\n",
       "      delete root._bokeh_onload_callbacks\n",
       "    }\n",
       "    console.debug(\"Bokeh: all callbacks have finished\");\n",
       "  }\n",
       "\n",
       "  function load_libs(css_urls, js_urls, callback) {\n",
       "    if (css_urls == null) css_urls = [];\n",
       "    if (js_urls == null) js_urls = [];\n",
       "\n",
       "    root._bokeh_onload_callbacks.push(callback);\n",
       "    if (root._bokeh_is_loading > 0) {\n",
       "      console.debug(\"Bokeh: BokehJS is being loaded, scheduling callback at\", now());\n",
       "      return null;\n",
       "    }\n",
       "    if (js_urls == null || js_urls.length === 0) {\n",
       "      run_callbacks();\n",
       "      return null;\n",
       "    }\n",
       "    console.debug(\"Bokeh: BokehJS not loaded, scheduling load and callback at\", now());\n",
       "    root._bokeh_is_loading = css_urls.length + js_urls.length;\n",
       "\n",
       "    function on_load() {\n",
       "      root._bokeh_is_loading--;\n",
       "      if (root._bokeh_is_loading === 0) {\n",
       "        console.debug(\"Bokeh: all BokehJS libraries/stylesheets loaded\");\n",
       "        run_callbacks()\n",
       "      }\n",
       "    }\n",
       "\n",
       "    function on_error(url) {\n",
       "      console.error(\"failed to load \" + url);\n",
       "    }\n",
       "\n",
       "    for (let i = 0; i < css_urls.length; i++) {\n",
       "      const url = css_urls[i];\n",
       "      const element = document.createElement(\"link\");\n",
       "      element.onload = on_load;\n",
       "      element.onerror = on_error.bind(null, url);\n",
       "      element.rel = \"stylesheet\";\n",
       "      element.type = \"text/css\";\n",
       "      element.href = url;\n",
       "      console.debug(\"Bokeh: injecting link tag for BokehJS stylesheet: \", url);\n",
       "      document.body.appendChild(element);\n",
       "    }\n",
       "\n",
       "    const hashes = {\"https://cdn.bokeh.org/bokeh/release/bokeh-2.3.2.min.js\": \"XypntL49z55iwGVUW4qsEu83zKL3XEcz0MjuGOQ9SlaaQ68X/g+k1FcioZi7oQAc\", \"https://cdn.bokeh.org/bokeh/release/bokeh-tables-2.3.2.min.js\": \"bEsM86IHGDTLCS0Zod8a8WM6Y4+lafAL/eSiyQcuPzinmWNgNO2/olUF0Z2Dkn5i\", \"https://cdn.bokeh.org/bokeh/release/bokeh-widgets-2.3.2.min.js\": \"TX0gSQTdXTTeScqxj6PVQxTiRW8DOoGVwinyi1D3kxv7wuxQ02XkOxv0xwiypcAH\"};\n",
       "\n",
       "    for (let i = 0; i < js_urls.length; i++) {\n",
       "      const url = js_urls[i];\n",
       "      const element = document.createElement('script');\n",
       "      element.onload = on_load;\n",
       "      element.onerror = on_error.bind(null, url);\n",
       "      element.async = false;\n",
       "      element.src = url;\n",
       "      if (url in hashes) {\n",
       "        element.crossOrigin = \"anonymous\";\n",
       "        element.integrity = \"sha384-\" + hashes[url];\n",
       "      }\n",
       "      console.debug(\"Bokeh: injecting script tag for BokehJS library: \", url);\n",
       "      document.head.appendChild(element);\n",
       "    }\n",
       "  };\n",
       "\n",
       "  function inject_raw_css(css) {\n",
       "    const element = document.createElement(\"style\");\n",
       "    element.appendChild(document.createTextNode(css));\n",
       "    document.body.appendChild(element);\n",
       "  }\n",
       "\n",
       "  \n",
       "  var js_urls = [\"https://cdn.bokeh.org/bokeh/release/bokeh-2.3.2.min.js\", \"https://cdn.bokeh.org/bokeh/release/bokeh-widgets-2.3.2.min.js\", \"https://cdn.bokeh.org/bokeh/release/bokeh-tables-2.3.2.min.js\"];\n",
       "  var css_urls = [];\n",
       "  \n",
       "\n",
       "  var inline_js = [\n",
       "    function(Bokeh) {\n",
       "      Bokeh.set_log_level(\"info\");\n",
       "    },\n",
       "    function(Bokeh) {\n",
       "    \n",
       "    \n",
       "    }\n",
       "  ];\n",
       "\n",
       "  function run_inline_js() {\n",
       "    \n",
       "    if (root.Bokeh !== undefined || force === true) {\n",
       "      \n",
       "    for (var i = 0; i < inline_js.length; i++) {\n",
       "      inline_js[i].call(root, root.Bokeh);\n",
       "    }\n",
       "    if (force === true) {\n",
       "        display_loaded();\n",
       "      }} else if (Date.now() < root._bokeh_timeout) {\n",
       "      setTimeout(run_inline_js, 100);\n",
       "    } else if (!root._bokeh_failed_load) {\n",
       "      console.log(\"Bokeh: BokehJS failed to load within specified timeout.\");\n",
       "      root._bokeh_failed_load = true;\n",
       "    } else if (force !== true) {\n",
       "      var cell = $(document.getElementById(\"1002\")).parents('.cell').data().cell;\n",
       "      cell.output_area.append_execute_result(NB_LOAD_WARNING)\n",
       "    }\n",
       "\n",
       "  }\n",
       "\n",
       "  if (root._bokeh_is_loading === 0) {\n",
       "    console.debug(\"Bokeh: BokehJS loaded, going straight to plotting\");\n",
       "    run_inline_js();\n",
       "  } else {\n",
       "    load_libs(css_urls, js_urls, function() {\n",
       "      console.debug(\"Bokeh: BokehJS plotting callback run at\", now());\n",
       "      run_inline_js();\n",
       "    });\n",
       "  }\n",
       "}(window));"
      ],
      "application/vnd.bokehjs_load.v0+json": "\n(function(root) {\n  function now() {\n    return new Date();\n  }\n\n  var force = true;\n\n  if (typeof root._bokeh_onload_callbacks === \"undefined\" || force === true) {\n    root._bokeh_onload_callbacks = [];\n    root._bokeh_is_loading = undefined;\n  }\n\n  \n\n  \n  if (typeof (root._bokeh_timeout) === \"undefined\" || force === true) {\n    root._bokeh_timeout = Date.now() + 5000;\n    root._bokeh_failed_load = false;\n  }\n\n  var NB_LOAD_WARNING = {'data': {'text/html':\n     \"<div style='background-color: #fdd'>\\n\"+\n     \"<p>\\n\"+\n     \"BokehJS does not appear to have successfully loaded. If loading BokehJS from CDN, this \\n\"+\n     \"may be due to a slow or bad network connection. Possible fixes:\\n\"+\n     \"</p>\\n\"+\n     \"<ul>\\n\"+\n     \"<li>re-rerun `output_notebook()` to attempt to load from CDN again, or</li>\\n\"+\n     \"<li>use INLINE resources instead, as so:</li>\\n\"+\n     \"</ul>\\n\"+\n     \"<code>\\n\"+\n     \"from bokeh.resources import INLINE\\n\"+\n     \"output_notebook(resources=INLINE)\\n\"+\n     \"</code>\\n\"+\n     \"</div>\"}};\n\n  function display_loaded() {\n    var el = document.getElementById(\"1002\");\n    if (el != null) {\n      el.textContent = \"BokehJS is loading...\";\n    }\n    if (root.Bokeh !== undefined) {\n      if (el != null) {\n        el.textContent = \"BokehJS \" + root.Bokeh.version + \" successfully loaded.\";\n      }\n    } else if (Date.now() < root._bokeh_timeout) {\n      setTimeout(display_loaded, 100)\n    }\n  }\n\n\n  function run_callbacks() {\n    try {\n      root._bokeh_onload_callbacks.forEach(function(callback) {\n        if (callback != null)\n          callback();\n      });\n    } finally {\n      delete root._bokeh_onload_callbacks\n    }\n    console.debug(\"Bokeh: all callbacks have finished\");\n  }\n\n  function load_libs(css_urls, js_urls, callback) {\n    if (css_urls == null) css_urls = [];\n    if (js_urls == null) js_urls = [];\n\n    root._bokeh_onload_callbacks.push(callback);\n    if (root._bokeh_is_loading > 0) {\n      console.debug(\"Bokeh: BokehJS is being loaded, scheduling callback at\", now());\n      return null;\n    }\n    if (js_urls == null || js_urls.length === 0) {\n      run_callbacks();\n      return null;\n    }\n    console.debug(\"Bokeh: BokehJS not loaded, scheduling load and callback at\", now());\n    root._bokeh_is_loading = css_urls.length + js_urls.length;\n\n    function on_load() {\n      root._bokeh_is_loading--;\n      if (root._bokeh_is_loading === 0) {\n        console.debug(\"Bokeh: all BokehJS libraries/stylesheets loaded\");\n        run_callbacks()\n      }\n    }\n\n    function on_error(url) {\n      console.error(\"failed to load \" + url);\n    }\n\n    for (let i = 0; i < css_urls.length; i++) {\n      const url = css_urls[i];\n      const element = document.createElement(\"link\");\n      element.onload = on_load;\n      element.onerror = on_error.bind(null, url);\n      element.rel = \"stylesheet\";\n      element.type = \"text/css\";\n      element.href = url;\n      console.debug(\"Bokeh: injecting link tag for BokehJS stylesheet: \", url);\n      document.body.appendChild(element);\n    }\n\n    const hashes = {\"https://cdn.bokeh.org/bokeh/release/bokeh-2.3.2.min.js\": \"XypntL49z55iwGVUW4qsEu83zKL3XEcz0MjuGOQ9SlaaQ68X/g+k1FcioZi7oQAc\", \"https://cdn.bokeh.org/bokeh/release/bokeh-tables-2.3.2.min.js\": \"bEsM86IHGDTLCS0Zod8a8WM6Y4+lafAL/eSiyQcuPzinmWNgNO2/olUF0Z2Dkn5i\", \"https://cdn.bokeh.org/bokeh/release/bokeh-widgets-2.3.2.min.js\": \"TX0gSQTdXTTeScqxj6PVQxTiRW8DOoGVwinyi1D3kxv7wuxQ02XkOxv0xwiypcAH\"};\n\n    for (let i = 0; i < js_urls.length; i++) {\n      const url = js_urls[i];\n      const element = document.createElement('script');\n      element.onload = on_load;\n      element.onerror = on_error.bind(null, url);\n      element.async = false;\n      element.src = url;\n      if (url in hashes) {\n        element.crossOrigin = \"anonymous\";\n        element.integrity = \"sha384-\" + hashes[url];\n      }\n      console.debug(\"Bokeh: injecting script tag for BokehJS library: \", url);\n      document.head.appendChild(element);\n    }\n  };\n\n  function inject_raw_css(css) {\n    const element = document.createElement(\"style\");\n    element.appendChild(document.createTextNode(css));\n    document.body.appendChild(element);\n  }\n\n  \n  var js_urls = [\"https://cdn.bokeh.org/bokeh/release/bokeh-2.3.2.min.js\", \"https://cdn.bokeh.org/bokeh/release/bokeh-widgets-2.3.2.min.js\", \"https://cdn.bokeh.org/bokeh/release/bokeh-tables-2.3.2.min.js\"];\n  var css_urls = [];\n  \n\n  var inline_js = [\n    function(Bokeh) {\n      Bokeh.set_log_level(\"info\");\n    },\n    function(Bokeh) {\n    \n    \n    }\n  ];\n\n  function run_inline_js() {\n    \n    if (root.Bokeh !== undefined || force === true) {\n      \n    for (var i = 0; i < inline_js.length; i++) {\n      inline_js[i].call(root, root.Bokeh);\n    }\n    if (force === true) {\n        display_loaded();\n      }} else if (Date.now() < root._bokeh_timeout) {\n      setTimeout(run_inline_js, 100);\n    } else if (!root._bokeh_failed_load) {\n      console.log(\"Bokeh: BokehJS failed to load within specified timeout.\");\n      root._bokeh_failed_load = true;\n    } else if (force !== true) {\n      var cell = $(document.getElementById(\"1002\")).parents('.cell').data().cell;\n      cell.output_area.append_execute_result(NB_LOAD_WARNING)\n    }\n\n  }\n\n  if (root._bokeh_is_loading === 0) {\n    console.debug(\"Bokeh: BokehJS loaded, going straight to plotting\");\n    run_inline_js();\n  } else {\n    load_libs(css_urls, js_urls, function() {\n      console.debug(\"Bokeh: BokehJS plotting callback run at\", now());\n      run_inline_js();\n    });\n  }\n}(window));"
     },
     "metadata": {},
     "output_type": "display_data"
    }
   ],
   "source": [
    "import tensorflow.keras as keras\n",
    "import tensorflow as tf\n",
    "import numpy as np\n",
    "import matplotlib.pyplot as plt\n",
    "import logging\n",
    "import os\n",
    "import pandas as pd\n",
    "from matplotlib import pyplot\n",
    "import nngp\n",
    "import neural_net\n",
    "import random\n",
    "from sklearn.model_selection import train_test_split\n",
    "import bokeh.io\n",
    "from sklearn.preprocessing import StandardScaler\n",
    "from sklearn.metrics import confusion_matrix, accuracy_score\n",
    "\n",
    "from bokeh.plotting import figure, output_notebook, show\n",
    "from bokeh.layouts import row, gridplot\n",
    "from bokeh.palettes import Category10\n",
    "from bokeh.models import Legend\n",
    "bokeh.io.reset_output()\n",
    "bokeh.io.output_notebook()\n",
    "\n",
    "logging.basicConfig(format='%(asctime)s - %(message)s', level=logging.INFO)\n",
    "\n",
    "%load_ext autoreload\n",
    "%autoreload 2"
   ]
  },
  {
   "cell_type": "markdown",
   "metadata": {
    "Collapsed": "false",
    "id": "6q-AQrzZrHc5"
   },
   "source": [
    "## Experimental Functions"
   ]
  },
  {
   "cell_type": "code",
   "execution_count": 2,
   "metadata": {
    "Collapsed": "false",
    "id": "1m6UlRuArHc-"
   },
   "outputs": [],
   "source": [
    "def prep_data(X, Y, dtype=tf.float64):\n",
    "    X_flat = tf.convert_to_tensor(X, dtype=dtype)\n",
    "    Y_cat = keras.utils.to_categorical(Y)\n",
    "    Y_cat = Y_cat - 0.1\n",
    "    Y_cat = tf.convert_to_tensor(Y_cat, dtype=dtype)\n",
    "    return X_flat, Y_cat"
   ]
  },
  {
   "cell_type": "code",
   "execution_count": 3,
   "metadata": {
    "Collapsed": "false",
    "id": "btVsPlggrHdB"
   },
   "outputs": [],
   "source": [
    "def evaluate_NN(X_train, Y_train, X_test, Y_test, model, training_accuracy=1, max_epochs=400):\n",
    "    \n",
    "    callbacks = AccuracyCallback(training_accuracy, max_epochs)\n",
    "    model.fit(X_train, Y_train, verbose=0, callbacks=[callbacks], epochs=max_epochs)\n",
    "    output = model.predict(X_test, verbose=0)\n",
    "    loss, acc = model.evaluate(X_test, Y_test, verbose=0)\n",
    "    _, training_acc = model.evaluate(X_train, Y_train, verbose=0)\n",
    "    \n",
    "    return acc, loss, training_acc"
   ]
  },
  {
   "cell_type": "code",
   "execution_count": 4,
   "metadata": {
    "Collapsed": "false",
    "id": "7Bkk50cvrHdE"
   },
   "outputs": [],
   "source": [
    "class AccuracyCallback(tf.keras.callbacks.Callback): \n",
    "    def __init__(self, accuracy_threshold, max_epoch):\n",
    "        self.accuracy_threshold = accuracy_threshold\n",
    "        self.max_epoch = max_epoch\n",
    "        super(AccuracyCallback, self).__init__()\n",
    "    \n",
    "    def on_epoch_end(self, epoch, logs={}): \n",
    "        if(logs.get('categorical_accuracy') >= self.accuracy_threshold):   \n",
    "            print(\"Reached %2.1f%% accuracy, so stopping training \\n\" %(self.accuracy_threshold*100))   \n",
    "            self.model.stop_training = True\n",
    "        if epoch == self.max_epoch:\n",
    "            print(f\"Stopping training after {epoch} epochs, final accuracy: {logs.get('categorical_accuracy')}\")"
   ]
  },
  {
   "cell_type": "code",
   "execution_count": 5,
   "metadata": {
    "Collapsed": "false",
    "id": "LqPrsnRUrHdG"
   },
   "outputs": [],
   "source": [
    "def evaluate_GP(X_train, Y_train, X_test, Y_test, K):\n",
    "    mu_bar, _ = nngp.GP_cholesky(X_train, Y_train, X_test, K)\n",
    "\n",
    "    # Calculate Accuracy\n",
    "    predictions = tf.argmax(mu_bar, axis=1).numpy()\n",
    "    predictions_true = tf.argmax(Y_test, axis=1).numpy()\n",
    "    acc = accuracy_score(predictions_true,predictions)\n",
    "    \n",
    "    # MSE Loss\n",
    "    loss = tf.keras.losses.MSE(mu_bar, Y_test)\n",
    "    average_loss = loss.numpy().mean()\n",
    "    return acc, average_loss"
   ]
  },
  {
   "cell_type": "code",
   "execution_count": 6,
   "metadata": {
    "Collapsed": "false",
    "id": "g3ZdMgSArHdK"
   },
   "outputs": [],
   "source": [
    "def save_bokeh(plot, filepath):\n",
    "    bokeh.io.reset_output()\n",
    "    bokeh.io.output_file(filepath, plot)\n",
    "    show(p)\n",
    "    bokeh.io.reset_output()\n",
    "    bokeh.io.output_notebook()"
   ]
  },
  {
   "cell_type": "markdown",
   "metadata": {
    "Collapsed": "false",
    "id": "JhEv_rwarHdM"
   },
   "source": [
    "### Neural Networks vs NNGP on MNIST"
   ]
  },
  {
   "cell_type": "code",
   "execution_count": 7,
   "metadata": {
    "Collapsed": "false",
    "id": "VxTcWykXrHdP"
   },
   "outputs": [],
   "source": [
    "def df_append(df, data):\n",
    "    df.loc[len(df)] = data"
   ]
  },
  {
   "cell_type": "code",
   "execution_count": null,
   "metadata": {
    "id": "XoENPkzkrHdT"
   },
   "outputs": [],
   "source": [
    "#New parameters \n",
    "alpha_b = 4\n",
    "beta_b = 2\n",
    "shape_b, scale_b = alpha_b, 1/beta_b\n",
    "var_b = 1/np.random.gamma(shape_b, scale_b)"
   ]
  },
  {
   "cell_type": "code",
   "execution_count": null,
   "metadata": {
    "id": "PWNBcCkyrHdV"
   },
   "outputs": [],
   "source": [
    "alpha_w = 4\n",
    "beta_w = 4\n",
    "shape_w, scale_w = alpha_w, 1/beta_w\n",
    "var_w = 1/np.random.gamma(shape_w, scale_w)"
   ]
  },
  {
   "cell_type": "code",
   "execution_count": 8,
   "metadata": {
    "Collapsed": "false",
    "id": "w4DL4OAcrHdX"
   },
   "outputs": [],
   "source": [
    "def run_over_dataset_and_widths(X_train_flat, Y_train_reg, X_test_flat, Y_test_reg, activations):\n",
    "\n",
    "    widths = [5, 10, 50, 100, 500, 1000]\n",
    "    dataset_size = [75, 150, 250, 436]\n",
    "    n_layers = 3\n",
    "\n",
    "    df_columns = ['activation', 'dataset_size', 'width', 'test_accuracy', 'test_mse', 'training_accuracy']\n",
    "    nn_evaluate = pd.DataFrame(columns=df_columns)\n",
    "    gp_evaluate = pd.DataFrame(columns=df_columns)\n",
    "    gpo_evaluate = pd.DataFrame(columns=df_columns)\n",
    "    \n",
    "    #Test\n",
    "    X_test_n, Y_test_n =  X_test_flat, Y_test_reg\n",
    "        \n",
    "    for act in activations:\n",
    "        \n",
    "        # Kernel settings don't change\n",
    "        sigma_b = np.sqrt(var_b)\n",
    "        sigma_w = np.sqrt(var_w)\n",
    "        general_kernel = nngp.GeneralKernel(act,\n",
    "                                            L=n_layers,\n",
    "                                            n_g=401,\n",
    "                                            n_v=400,\n",
    "                                            n_c=400,\n",
    "                                            u_max=10,\n",
    "                                            s_max=100,\n",
    "                                            sigma_b=sigma_b,\n",
    "                                            sigma_w=sigma_w)\n",
    "       #Original\n",
    "        general_kernel2 = nngp.GeneralKernel(act,\n",
    "                                            L=n_layers,\n",
    "                                            n_g=401,\n",
    "                                            n_v=400,\n",
    "                                            n_c=400,\n",
    "                                            u_max=10,\n",
    "                                            s_max=100,\n",
    "                                            sigma_b=np.sqrt(0.1),\n",
    "                                            sigma_w=np.sqrt(1.6))\n",
    "\n",
    "        for n, n_data in enumerate(dataset_size):\n",
    "            print(f'Training Data set size of {n_data} with {act.__name__} activation')\n",
    "            \n",
    "            \n",
    "            # Sizes for building nerual net\n",
    "            din=len(X_train_flat[0])\n",
    "            dout = len(Y_train_reg[0])\n",
    "            \n",
    "            # Construct the dataset size\n",
    "            X_train_n, Y_train_n = train_random_sample(X_train_flat,Y_train_reg,n_data,din,dout)\n",
    "\n",
    "            # Evaluate the Origianl GP first\n",
    "            gpo_acc, gpo_loss = evaluate_GP(X_train_n, Y_train_n, X_test_n, Y_test_n, general_kernel2.K)\n",
    "            df_append(gpo_evaluate, [act.__name__, n_data, np.nan, gpo_acc, gpo_loss, np.nan])\n",
    "            \n",
    "            # Evaluate the New GP \n",
    "            gp_acc, gp_loss = evaluate_GP(X_train_n, Y_train_n, X_test_n, Y_test_n, general_kernel.K)\n",
    "            df_append(gp_evaluate, [act.__name__, n_data, np.nan, gp_acc, gp_loss, np.nan])\n",
    "\n",
    "            # Evaluate the nn over a range of widths\n",
    "            for i, width in enumerate(widths):\n",
    "                print(f'Training model of width: {width} and depth: {n_layers}')\n",
    "                model = neural_net.build_model((din,), dout, n_layers, width, hidden_activation=act, final_activation=None)\n",
    "                model.compile(optimizer='Adam', loss='MSE', metrics=['categorical_accuracy'])\n",
    "                nn_acc, nn_loss, nn_train_acc = evaluate_NN(X_train_n, Y_train_n, X_test_n, Y_test_n, model)\n",
    "                df_append(nn_evaluate, [act.__name__, n_data, width, nn_acc, nn_loss, nn_train_acc])\n",
    "\n",
    "    return gp_evaluate, gpo_evaluate, nn_evaluate"
   ]
  },
  {
   "cell_type": "code",
   "execution_count": null,
   "metadata": {
    "id": "HU5JVW5RrHdZ"
   },
   "outputs": [],
   "source": [
    "#Load the Sample Entropy dataset\n",
    "dataset = pd.read_csv('Sample_Entropy.csv')\n",
    "X = dataset.iloc[:, :-1].values\n",
    "y = dataset.iloc[:, -1].values\n",
    "X_train, X_test, Y_train, Y_test = train_test_split(X, y, test_size=0.15, random_state=0)"
   ]
  },
  {
   "cell_type": "code",
   "execution_count": null,
   "metadata": {
    "id": "VGUvGbVcrHda"
   },
   "outputs": [],
   "source": [
    "#Prepare Data\n",
    "scaler = StandardScaler()\n",
    "X_train = scaler.fit_transform(X_train)\n",
    "X_test = scaler.transform(X_test)\n",
    "X_train_flat, Y_train_reg = prep_data(X_train, Y_train)\n",
    "X_test_flat, Y_test_reg = prep_data(X_test, Y_test)"
   ]
  },
  {
   "cell_type": "code",
   "execution_count": 9,
   "metadata": {
    "id": "YzH2HK4urHdb"
   },
   "outputs": [],
   "source": [
    "def train_random_sample(X_train,Y_train,n_data,din,dout):\n",
    "    S=tf.concat([X_train, Y_train],1)\n",
    "    Random_S=tf.stack(random.sample(list(S),n_data),0)\n",
    "    X_train_F=tf.split(Random_S,[din,dout],1)[0]\n",
    "    Y_train_F=tf.split(Random_S,[din,dout],1)[1]\n",
    "    return X_train_F,Y_train_F"
   ]
  },
  {
   "cell_type": "code",
   "execution_count": null,
   "metadata": {
    "Collapsed": "false",
    "id": "_-RmZjR_rHdc",
    "outputId": "eddd84d0-c6ac-4312-efdd-107120df5e42"
   },
   "outputs": [],
   "source": [
    "#Training all models \n",
    "activations = [tf.nn.tanh, tf.nn.relu]\n",
    "gp_evaluate, gpo_evaluate, nn_evaluate = run_over_dataset_and_widths(X_train_flat, Y_train_reg, X_test_flat, Y_test_reg, activations)"
   ]
  },
  {
   "cell_type": "code",
   "execution_count": null,
   "metadata": {
    "Collapsed": "false",
    "id": "jlWrQi7DrHdd"
   },
   "outputs": [],
   "source": [
    "gp_evaluate.to_csv('experimental_data/gp_results.csv')\n",
    "gpo_evaluate.to_csv('experimental_data/gpo_results.csv')\n",
    "nn_evaluate.to_csv('experimental_data/nn_results.csv')"
   ]
  },
  {
   "cell_type": "code",
   "execution_count": 14,
   "metadata": {
    "Collapsed": "false",
    "id": "WDB8VAhcrHdf"
   },
   "outputs": [],
   "source": [
    "def plot_metric(metric, y_label, legend_loc='bottom_right', save_to_file=None):\n",
    "    widths = nn_evaluate.width.unique()\n",
    "    activations = ['relu', 'tanh']\n",
    "\n",
    "\n",
    "    # create three plots\n",
    "    x_label = 'Training Dataset Size'\n",
    "    y_label = y_label\n",
    "    legend=[]\n",
    "    s1 = figure(title='Relative_Power-Data, Relu', x_axis_label = x_label, y_axis_label = y_label, plot_width=800, plot_height=400)\n",
    "    s2 = figure(title='Relative_Power-Data, Tanh', x_axis_label = x_label)\n",
    "    s3 = figure()\n",
    "\n",
    "    color = Category10[len(widths)]\n",
    "\n",
    "    gp_relu = gp_evaluate[gp_evaluate.activation=='relu']\n",
    "    gp_tanh = gp_evaluate[gp_evaluate.activation=='tanh']\n",
    "    s1.line(gp_relu.dataset_size, gp_relu[metric],color='indigo', line_dash=[3], line_width=2)\n",
    "    r = s2.line(gp_relu.dataset_size, gp_relu[metric],color='indigo', line_dash=[3], line_width=2, legend_label='Gaussian Process')\n",
    "    #legend.append(('Gaussian Process', [r]))\n",
    "\n",
    "    for i, width in enumerate(widths):\n",
    "        nn_relu = nn_evaluate[(nn_evaluate.width==width) & (nn_evaluate.activation=='relu')]\n",
    "        nn_tanh = nn_evaluate[(nn_evaluate.width==width) & (nn_evaluate.activation=='tanh')]\n",
    "        s1.line(nn_relu.dataset_size, nn_relu[metric], color=color[i], line_width=2)\n",
    "        r = s2.line(nn_tanh.dataset_size, nn_tanh[metric], color=color[i], line_width=2, legend_label=f'NN width: {width}')\n",
    "        legend.append((f'NN width: {width}', [r]))\n",
    "\n",
    "    # make a grid\n",
    "    grid = gridplot([s1, s2], ncols=2, plot_width=400, plot_height=350, sizing_mode='scale_both')\n",
    "\n",
    "    # s2.legend = Legend(items=legend)\n",
    "    s2.legend.location = legend_loc\n",
    "    s2.legend.spacing = -10\n",
    "    # s2.add_layout(legend, 'right')\n",
    "    s2.legend.orientation = \"vertical\"\n",
    "    s2.legend.label_text_font_size = \"9px\"\n",
    "    s2.y_range.start = 0\n",
    "    s1.y_range.start = 0\n",
    "\n",
    "    show(grid)\n",
    "    return grid, s1, s2"
   ]
  },
  {
   "cell_type": "code",
   "execution_count": 13,
   "metadata": {
    "Collapsed": "false",
    "id": "mHCz1nkfrHdg",
    "outputId": "6627c952-f881-4c26-e883-dee825e8547b"
   },
   "outputs": [
    {
     "data": {
      "text/html": [
       "\n",
       "\n",
       "\n",
       "\n",
       "\n",
       "\n",
       "  <div class=\"bk-root\" id=\"9bf70e94-f951-4be7-8202-a5f22a4731ab\" data-root-id=\"1940\"></div>\n"
      ]
     },
     "metadata": {},
     "output_type": "display_data"
    },
    {
     "data": {
      "application/javascript": [
       "(function(root) {\n",
       "  function embed_document(root) {\n",
       "    \n",
       "  var docs_json = {\"201f5a23-7037-4181-8f2d-effc1d116d3c\":{\"defs\":[],\"roots\":{\"references\":[{\"attributes\":{\"children\":[{\"id\":\"1939\"},{\"id\":\"1937\"}],\"sizing_mode\":\"scale_both\"},\"id\":\"1940\",\"type\":\"Column\"},{\"attributes\":{\"line_color\":\"#8c564b\",\"line_width\":2,\"x\":{\"field\":\"x\"},\"y\":{\"field\":\"y\"}},\"id\":\"1864\",\"type\":\"Line\"},{\"attributes\":{\"label\":{\"value\":\"NN width: 5\"},\"renderers\":[{\"id\":\"1731\"}]},\"id\":\"1745\",\"type\":\"LegendItem\"},{\"attributes\":{},\"id\":\"1743\",\"type\":\"UnionRenderers\"},{\"attributes\":{\"line_alpha\":0.1,\"line_color\":\"#2ca02c\",\"line_width\":2,\"x\":{\"field\":\"x\"},\"y\":{\"field\":\"y\"}},\"id\":\"1773\",\"type\":\"Line\"},{\"attributes\":{},\"id\":\"1616\",\"type\":\"BasicTicker\"},{\"attributes\":{\"data\":{\"x\":[75,150,250,436],\"y\":{\"__ndarray__\":\"AAAAgKmB7T8AAAAAcVbuP////384K+8/////fzgr7z8=\",\"dtype\":\"float64\",\"order\":\"little\",\"shape\":[4]}},\"selected\":{\"id\":\"1887\"},\"selection_policy\":{\"id\":\"1888\"}},\"id\":\"1863\",\"type\":\"ColumnDataSource\"},{\"attributes\":{\"data_source\":{\"id\":\"1771\"},\"glyph\":{\"id\":\"1772\"},\"hover_glyph\":null,\"muted_glyph\":null,\"nonselection_glyph\":{\"id\":\"1773\"},\"view\":{\"id\":\"1775\"}},\"id\":\"1774\",\"type\":\"GlyphRenderer\"},{\"attributes\":{\"axis\":{\"id\":\"1619\"},\"dimension\":1,\"ticker\":null},\"id\":\"1622\",\"type\":\"Grid\"},{\"attributes\":{\"text\":\"Relative_Power-Data, Tanh\"},\"id\":\"1638\",\"type\":\"Title\"},{\"attributes\":{\"source\":{\"id\":\"1771\"}},\"id\":\"1775\",\"type\":\"CDSView\"},{\"attributes\":{\"source\":{\"id\":\"1728\"}},\"id\":\"1732\",\"type\":\"CDSView\"},{\"attributes\":{},\"id\":\"1909\",\"type\":\"UnionRenderers\"},{\"attributes\":{\"data_source\":{\"id\":\"1728\"},\"glyph\":{\"id\":\"1729\"},\"hover_glyph\":null,\"muted_glyph\":null,\"nonselection_glyph\":{\"id\":\"1730\"},\"view\":{\"id\":\"1732\"}},\"id\":\"1731\",\"type\":\"GlyphRenderer\"},{\"attributes\":{\"line_color\":\"#1f77b4\",\"line_width\":2,\"x\":{\"field\":\"x\"},\"y\":{\"field\":\"y\"}},\"id\":\"1729\",\"type\":\"Line\"},{\"attributes\":{},\"id\":\"1910\",\"type\":\"Selection\"},{\"attributes\":{\"line_alpha\":0.1,\"line_color\":\"#1f77b4\",\"line_width\":2,\"x\":{\"field\":\"x\"},\"y\":{\"field\":\"y\"}},\"id\":\"1730\",\"type\":\"Line\"},{\"attributes\":{\"line_color\":\"#2ca02c\",\"line_width\":2,\"x\":{\"field\":\"x\"},\"y\":{\"field\":\"y\"}},\"id\":\"1777\",\"type\":\"Line\"},{\"attributes\":{},\"id\":\"1888\",\"type\":\"UnionRenderers\"},{\"attributes\":{\"data\":{\"x\":[75,150,250,436],\"y\":{\"__ndarray__\":\"AAAAoBrY6z8AAACAqYHtP////7/UwO4/////fzgr7z8=\",\"dtype\":\"float64\",\"order\":\"little\",\"shape\":[4]}},\"selected\":{\"id\":\"1794\"},\"selection_policy\":{\"id\":\"1795\"}},\"id\":\"1776\",\"type\":\"ColumnDataSource\"},{\"attributes\":{\"source\":{\"id\":\"1863\"}},\"id\":\"1867\",\"type\":\"CDSView\"},{\"attributes\":{\"label\":{\"value\":\"NN width: 1000\"},\"renderers\":[{\"id\":\"1866\"}]},\"id\":\"1890\",\"type\":\"LegendItem\"},{\"attributes\":{\"data_source\":{\"id\":\"1863\"},\"glyph\":{\"id\":\"1864\"},\"hover_glyph\":null,\"muted_glyph\":null,\"nonselection_glyph\":{\"id\":\"1865\"},\"view\":{\"id\":\"1867\"}},\"id\":\"1866\",\"type\":\"GlyphRenderer\"},{\"attributes\":{},\"id\":\"1742\",\"type\":\"Selection\"},{\"attributes\":{\"line_alpha\":0.1,\"line_color\":\"#8c564b\",\"line_width\":2,\"x\":{\"field\":\"x\"},\"y\":{\"field\":\"y\"}},\"id\":\"1865\",\"type\":\"Line\"},{\"attributes\":{\"label\":{\"value\":\"NN width: 50\"},\"renderers\":[{\"id\":\"1779\"}]},\"id\":\"1797\",\"type\":\"LegendItem\"},{\"attributes\":{\"axis_label\":\"Test Accuracy\",\"formatter\":{\"id\":\"1893\"},\"major_label_policy\":{\"id\":\"1894\"},\"ticker\":{\"id\":\"1620\"}},\"id\":\"1619\",\"type\":\"LinearAxis\"},{\"attributes\":{\"line_color\":\"#ff7f0e\",\"line_width\":2,\"x\":{\"field\":\"x\"},\"y\":{\"field\":\"y\"}},\"id\":\"1747\",\"type\":\"Line\"},{\"attributes\":{\"data\":{\"x\":[75,150,250,436],\"y\":{\"__ndarray__\":\"AAAAQA3s7T8AAADgRRftP////7/UwO4/////v9TA7j8=\",\"dtype\":\"float64\",\"order\":\"little\",\"shape\":[4]}},\"selected\":{\"id\":\"1904\"},\"selection_policy\":{\"id\":\"1905\"}},\"id\":\"1771\",\"type\":\"ColumnDataSource\"},{\"attributes\":{},\"id\":\"1911\",\"type\":\"UnionRenderers\"},{\"attributes\":{\"source\":{\"id\":\"1776\"}},\"id\":\"1780\",\"type\":\"CDSView\"},{\"attributes\":{\"data_source\":{\"id\":\"1776\"},\"glyph\":{\"id\":\"1777\"},\"hover_glyph\":null,\"muted_glyph\":null,\"nonselection_glyph\":{\"id\":\"1778\"},\"view\":{\"id\":\"1780\"}},\"id\":\"1779\",\"type\":\"GlyphRenderer\"},{\"attributes\":{},\"id\":\"1640\",\"type\":\"DataRange1d\"},{\"attributes\":{\"data\":{\"x\":[75,150,250,436],\"y\":{\"__ndarray__\":\"AAAA4CfE6T8AAADgRRftPwAAAABxVu4/AAAAQA3s7T8=\",\"dtype\":\"float64\",\"order\":\"little\",\"shape\":[4]}},\"selected\":{\"id\":\"1902\"},\"selection_policy\":{\"id\":\"1903\"}},\"id\":\"1746\",\"type\":\"ColumnDataSource\"},{\"attributes\":{\"line_alpha\":0.1,\"line_color\":\"#2ca02c\",\"line_width\":2,\"x\":{\"field\":\"x\"},\"y\":{\"field\":\"y\"}},\"id\":\"1778\",\"type\":\"Line\"},{\"attributes\":{},\"id\":\"1794\",\"type\":\"Selection\"},{\"attributes\":{},\"id\":\"1795\",\"type\":\"UnionRenderers\"},{\"attributes\":{\"line_color\":\"#d62728\",\"line_width\":2,\"x\":{\"field\":\"x\"},\"y\":{\"field\":\"y\"}},\"id\":\"1799\",\"type\":\"Line\"},{\"attributes\":{},\"id\":\"1628\",\"type\":\"HelpTool\"},{\"attributes\":{},\"id\":\"1620\",\"type\":\"BasicTicker\"},{\"attributes\":{\"source\":{\"id\":\"1746\"}},\"id\":\"1750\",\"type\":\"CDSView\"},{\"attributes\":{\"data_source\":{\"id\":\"1746\"},\"glyph\":{\"id\":\"1747\"},\"hover_glyph\":null,\"muted_glyph\":null,\"nonselection_glyph\":{\"id\":\"1748\"},\"view\":{\"id\":\"1750\"}},\"id\":\"1749\",\"type\":\"GlyphRenderer\"},{\"attributes\":{\"line_alpha\":0.1,\"line_color\":\"#ff7f0e\",\"line_width\":2,\"x\":{\"field\":\"x\"},\"y\":{\"field\":\"y\"}},\"id\":\"1748\",\"type\":\"Line\"},{\"attributes\":{\"data\":{\"x\":[75,150,250,436],\"y\":{\"__ndarray__\":\"AAAAYO+Y6j8AAABADeztPwAAAABxVu4/////v9TA7j8=\",\"dtype\":\"float64\",\"order\":\"little\",\"shape\":[4]}},\"selected\":{\"id\":\"1906\"},\"selection_policy\":{\"id\":\"1907\"}},\"id\":\"1798\",\"type\":\"ColumnDataSource\"},{\"attributes\":{\"data\":{\"x\":[75,150,250,436],\"y\":{\"__ndarray__\":\"AAAAoBrY6z////+/1MDuP////384K+8/////v9TA7j8=\",\"dtype\":\"float64\",\"order\":\"little\",\"shape\":[4]}},\"selected\":{\"id\":\"1742\"},\"selection_policy\":{\"id\":\"1743\"}},\"id\":\"1728\",\"type\":\"ColumnDataSource\"},{\"attributes\":{\"line_color\":\"#ff7f0e\",\"line_width\":2,\"x\":{\"field\":\"x\"},\"y\":{\"field\":\"y\"}},\"id\":\"1752\",\"type\":\"Line\"},{\"attributes\":{\"overlay\":{\"id\":\"1629\"}},\"id\":\"1625\",\"type\":\"BoxZoomTool\"},{\"attributes\":{},\"id\":\"1623\",\"type\":\"PanTool\"},{\"attributes\":{\"data\":{\"x\":[75,150,250,436],\"y\":{\"__ndarray__\":\"AAAAYH5C7D8AAAAAcVbuPwAAAABxVu4/////v9TA7j8=\",\"dtype\":\"float64\",\"order\":\"little\",\"shape\":[4]}},\"selected\":{\"id\":\"1767\"},\"selection_policy\":{\"id\":\"1768\"}},\"id\":\"1751\",\"type\":\"ColumnDataSource\"},{\"attributes\":{},\"id\":\"1644\",\"type\":\"LinearScale\"},{\"attributes\":{\"line_color\":\"#d62728\",\"line_width\":2,\"x\":{\"field\":\"x\"},\"y\":{\"field\":\"y\"}},\"id\":\"1804\",\"type\":\"Line\"},{\"attributes\":{},\"id\":\"1767\",\"type\":\"Selection\"},{\"attributes\":{\"label\":{\"value\":\"NN width: 10\"},\"renderers\":[{\"id\":\"1754\"}]},\"id\":\"1770\",\"type\":\"LegendItem\"},{\"attributes\":{},\"id\":\"1626\",\"type\":\"SaveTool\"},{\"attributes\":{\"source\":{\"id\":\"1798\"}},\"id\":\"1802\",\"type\":\"CDSView\"},{\"attributes\":{},\"id\":\"1624\",\"type\":\"WheelZoomTool\"},{\"attributes\":{\"data_source\":{\"id\":\"1798\"},\"glyph\":{\"id\":\"1799\"},\"hover_glyph\":null,\"muted_glyph\":null,\"nonselection_glyph\":{\"id\":\"1800\"},\"view\":{\"id\":\"1802\"}},\"id\":\"1801\",\"type\":\"GlyphRenderer\"},{\"attributes\":{\"line_alpha\":0.1,\"line_color\":\"#d62728\",\"line_width\":2,\"x\":{\"field\":\"x\"},\"y\":{\"field\":\"y\"}},\"id\":\"1800\",\"type\":\"Line\"},{\"attributes\":{\"line_alpha\":0.1,\"line_color\":\"#ff7f0e\",\"line_width\":2,\"x\":{\"field\":\"x\"},\"y\":{\"field\":\"y\"}},\"id\":\"1753\",\"type\":\"Line\"},{\"attributes\":{\"axis\":{\"id\":\"1615\"},\"ticker\":null},\"id\":\"1618\",\"type\":\"Grid\"},{\"attributes\":{\"source\":{\"id\":\"1751\"}},\"id\":\"1755\",\"type\":\"CDSView\"},{\"attributes\":{\"axis_label\":\"Training Dataset Size\",\"formatter\":{\"id\":\"1896\"},\"major_label_policy\":{\"id\":\"1897\"},\"ticker\":{\"id\":\"1616\"}},\"id\":\"1615\",\"type\":\"LinearAxis\"},{\"attributes\":{\"data_source\":{\"id\":\"1751\"},\"glyph\":{\"id\":\"1752\"},\"hover_glyph\":null,\"muted_glyph\":null,\"nonselection_glyph\":{\"id\":\"1753\"},\"view\":{\"id\":\"1755\"}},\"id\":\"1754\",\"type\":\"GlyphRenderer\"},{\"attributes\":{\"start\":0.8},\"id\":\"1642\",\"type\":\"DataRange1d\"},{\"attributes\":{\"below\":[{\"id\":\"1615\"}],\"center\":[{\"id\":\"1618\"},{\"id\":\"1622\"}],\"height\":350,\"left\":[{\"id\":\"1619\"}],\"renderers\":[{\"id\":\"1704\"},{\"id\":\"1726\"},{\"id\":\"1749\"},{\"id\":\"1774\"},{\"id\":\"1801\"},{\"id\":\"1830\"},{\"id\":\"1861\"}],\"sizing_mode\":\"scale_both\",\"title\":{\"id\":\"1605\"},\"toolbar\":{\"id\":\"1630\"},\"toolbar_location\":null,\"width\":400,\"x_range\":{\"id\":\"1607\"},\"x_scale\":{\"id\":\"1611\"},\"y_range\":{\"id\":\"1609\"},\"y_scale\":{\"id\":\"1613\"}},\"id\":\"1604\",\"subtype\":\"Figure\",\"type\":\"Plot\"},{\"attributes\":{},\"id\":\"1768\",\"type\":\"UnionRenderers\"},{\"attributes\":{\"data\":{\"x\":[75,150,250,436],\"y\":{\"__ndarray__\":\"AAAA4EUX7T8AAACAqYHtP////384K+8/////fzgr7z8=\",\"dtype\":\"float64\",\"order\":\"little\",\"shape\":[4]}},\"selected\":{\"id\":\"1823\"},\"selection_policy\":{\"id\":\"1824\"}},\"id\":\"1803\",\"type\":\"ColumnDataSource\"},{\"attributes\":{\"line_color\":\"#2ca02c\",\"line_width\":2,\"x\":{\"field\":\"x\"},\"y\":{\"field\":\"y\"}},\"id\":\"1772\",\"type\":\"Line\"},{\"attributes\":{\"label\":{\"value\":\"NN width: 100\"},\"renderers\":[{\"id\":\"1806\"}]},\"id\":\"1826\",\"type\":\"LegendItem\"},{\"attributes\":{},\"id\":\"1627\",\"type\":\"ResetTool\"},{\"attributes\":{\"source\":{\"id\":\"1803\"}},\"id\":\"1807\",\"type\":\"CDSView\"},{\"attributes\":{\"data_source\":{\"id\":\"1803\"},\"glyph\":{\"id\":\"1804\"},\"hover_glyph\":null,\"muted_glyph\":null,\"nonselection_glyph\":{\"id\":\"1805\"},\"view\":{\"id\":\"1807\"}},\"id\":\"1806\",\"type\":\"GlyphRenderer\"},{\"attributes\":{\"line_color\":\"#1f77b4\",\"line_width\":2,\"x\":{\"field\":\"x\"},\"y\":{\"field\":\"y\"}},\"id\":\"1724\",\"type\":\"Line\"},{\"attributes\":{\"line_alpha\":0.1,\"line_color\":\"#d62728\",\"line_width\":2,\"x\":{\"field\":\"x\"},\"y\":{\"field\":\"y\"}},\"id\":\"1805\",\"type\":\"Line\"},{\"attributes\":{},\"id\":\"1613\",\"type\":\"LinearScale\"},{\"attributes\":{\"active_multi\":null,\"tools\":[{\"id\":\"1623\"},{\"id\":\"1624\"},{\"id\":\"1625\"},{\"id\":\"1626\"},{\"id\":\"1627\"},{\"id\":\"1628\"}]},\"id\":\"1630\",\"type\":\"Toolbar\"},{\"attributes\":{},\"id\":\"1823\",\"type\":\"Selection\"},{\"attributes\":{},\"id\":\"1611\",\"type\":\"LinearScale\"},{\"attributes\":{},\"id\":\"1900\",\"type\":\"Selection\"},{\"attributes\":{\"bottom_units\":\"screen\",\"fill_alpha\":0.5,\"fill_color\":\"lightgrey\",\"left_units\":\"screen\",\"level\":\"overlay\",\"line_alpha\":1.0,\"line_color\":\"black\",\"line_dash\":[4,4],\"line_width\":2,\"right_units\":\"screen\",\"syncable\":false,\"top_units\":\"screen\"},\"id\":\"1629\",\"type\":\"BoxAnnotation\"},{\"attributes\":{},\"id\":\"1905\",\"type\":\"UnionRenderers\"},{\"attributes\":{},\"id\":\"1824\",\"type\":\"UnionRenderers\"},{\"attributes\":{},\"id\":\"1904\",\"type\":\"Selection\"},{\"attributes\":{},\"id\":\"1646\",\"type\":\"LinearScale\"},{\"attributes\":{\"data\":{\"x\":[75,150,250,436],\"y\":{\"__ndarray__\":\"AAAA4LZt6z8AAAAAcVbuPwAAAABxVu4/AAAAQJyV7z8=\",\"dtype\":\"float64\",\"order\":\"little\",\"shape\":[4]}},\"selected\":{\"id\":\"1908\"},\"selection_policy\":{\"id\":\"1909\"}},\"id\":\"1827\",\"type\":\"ColumnDataSource\"},{\"attributes\":{\"source\":{\"id\":\"1723\"}},\"id\":\"1727\",\"type\":\"CDSView\"},{\"attributes\":{\"data\":{\"x\":[75,150,250,436],\"y\":{\"__ndarray__\":\"iLPyE+Ks7D9TA3vH1MDuP3FWfkKcle8/cVZ+QpyV7z8=\",\"dtype\":\"float64\",\"order\":\"little\",\"shape\":[4]}},\"selected\":{\"id\":\"1898\"},\"selection_policy\":{\"id\":\"1899\"}},\"id\":\"1701\",\"type\":\"ColumnDataSource\"},{\"attributes\":{},\"id\":\"1908\",\"type\":\"Selection\"},{\"attributes\":{\"line_alpha\":0.1,\"line_color\":\"#1f77b4\",\"line_width\":2,\"x\":{\"field\":\"x\"},\"y\":{\"field\":\"y\"}},\"id\":\"1725\",\"type\":\"Line\"},{\"attributes\":{\"line_color\":\"#9467bd\",\"line_width\":2,\"x\":{\"field\":\"x\"},\"y\":{\"field\":\"y\"}},\"id\":\"1828\",\"type\":\"Line\"},{\"attributes\":{\"axis_label\":\"Training Dataset Size\",\"formatter\":{\"id\":\"1716\"},\"major_label_policy\":{\"id\":\"1717\"},\"ticker\":{\"id\":\"1649\"}},\"id\":\"1648\",\"type\":\"LinearAxis\"},{\"attributes\":{\"axis\":{\"id\":\"1652\"},\"dimension\":1,\"ticker\":null},\"id\":\"1655\",\"type\":\"Grid\"},{\"attributes\":{\"line_color\":\"indigo\",\"line_dash\":[3],\"line_width\":2,\"x\":{\"field\":\"x\"},\"y\":{\"field\":\"y\"}},\"id\":\"1702\",\"type\":\"Line\"},{\"attributes\":{},\"id\":\"1649\",\"type\":\"BasicTicker\"},{\"attributes\":{\"data\":{\"x\":[75,150,250,436],\"y\":{\"__ndarray__\":\"AAAAIOKs7D////+/1MDuPwAAAEAN7O0/AAAAQJyV7z8=\",\"dtype\":\"float64\",\"order\":\"little\",\"shape\":[4]}},\"selected\":{\"id\":\"1910\"},\"selection_policy\":{\"id\":\"1911\"}},\"id\":\"1858\",\"type\":\"ColumnDataSource\"},{\"attributes\":{\"line_color\":\"indigo\",\"line_dash\":[3],\"line_width\":2,\"x\":{\"field\":\"x\"},\"y\":{\"field\":\"y\"}},\"id\":\"1707\",\"type\":\"Line\"},{\"attributes\":{\"axis\":{\"id\":\"1648\"},\"ticker\":null},\"id\":\"1651\",\"type\":\"Grid\"},{\"attributes\":{\"data\":{\"x\":[75,150,250,436],\"y\":{\"__ndarray__\":\"iLPyE+Ks7D9TA3vH1MDuP3FWfkKcle8/cVZ+QpyV7z8=\",\"dtype\":\"float64\",\"order\":\"little\",\"shape\":[4]}},\"selected\":{\"id\":\"1718\"},\"selection_policy\":{\"id\":\"1719\"}},\"id\":\"1706\",\"type\":\"ColumnDataSource\"},{\"attributes\":{},\"id\":\"1653\",\"type\":\"BasicTicker\"},{\"attributes\":{\"data_source\":{\"id\":\"1701\"},\"glyph\":{\"id\":\"1702\"},\"hover_glyph\":null,\"muted_glyph\":null,\"nonselection_glyph\":{\"id\":\"1703\"},\"view\":{\"id\":\"1705\"}},\"id\":\"1704\",\"type\":\"GlyphRenderer\"},{\"attributes\":{\"formatter\":{\"id\":\"1713\"},\"major_label_policy\":{\"id\":\"1714\"},\"ticker\":{\"id\":\"1653\"}},\"id\":\"1652\",\"type\":\"LinearAxis\"},{\"attributes\":{\"source\":{\"id\":\"1827\"}},\"id\":\"1831\",\"type\":\"CDSView\"},{\"attributes\":{\"data_source\":{\"id\":\"1827\"},\"glyph\":{\"id\":\"1828\"},\"hover_glyph\":null,\"muted_glyph\":null,\"nonselection_glyph\":{\"id\":\"1829\"},\"view\":{\"id\":\"1831\"}},\"id\":\"1830\",\"type\":\"GlyphRenderer\"},{\"attributes\":{\"line_alpha\":0.1,\"line_color\":\"indigo\",\"line_dash\":[3],\"line_width\":2,\"x\":{\"field\":\"x\"},\"y\":{\"field\":\"y\"}},\"id\":\"1703\",\"type\":\"Line\"},{\"attributes\":{\"line_alpha\":0.1,\"line_color\":\"#9467bd\",\"line_width\":2,\"x\":{\"field\":\"x\"},\"y\":{\"field\":\"y\"}},\"id\":\"1829\",\"type\":\"Line\"},{\"attributes\":{},\"id\":\"1901\",\"type\":\"UnionRenderers\"},{\"attributes\":{\"source\":{\"id\":\"1701\"}},\"id\":\"1705\",\"type\":\"CDSView\"},{\"attributes\":{\"active_multi\":null,\"tools\":[{\"id\":\"1656\"},{\"id\":\"1657\"},{\"id\":\"1658\"},{\"id\":\"1659\"},{\"id\":\"1660\"},{\"id\":\"1661\"}]},\"id\":\"1663\",\"type\":\"Toolbar\"},{\"attributes\":{\"line_color\":\"#9467bd\",\"line_width\":2,\"x\":{\"field\":\"x\"},\"y\":{\"field\":\"y\"}},\"id\":\"1833\",\"type\":\"Line\"},{\"attributes\":{\"items\":[{\"id\":\"1722\"},{\"id\":\"1745\"},{\"id\":\"1770\"},{\"id\":\"1797\"},{\"id\":\"1826\"},{\"id\":\"1857\"},{\"id\":\"1890\"}],\"label_text_font_size\":\"9px\",\"location\":\"bottom_right\",\"spacing\":-10},\"id\":\"1721\",\"type\":\"Legend\"},{\"attributes\":{},\"id\":\"1898\",\"type\":\"Selection\"},{\"attributes\":{},\"id\":\"1656\",\"type\":\"PanTool\"},{\"attributes\":{\"data_source\":{\"id\":\"1706\"},\"glyph\":{\"id\":\"1707\"},\"hover_glyph\":null,\"muted_glyph\":null,\"nonselection_glyph\":{\"id\":\"1708\"},\"view\":{\"id\":\"1710\"}},\"id\":\"1709\",\"type\":\"GlyphRenderer\"},{\"attributes\":{\"data\":{\"x\":[75,150,250,436],\"y\":{\"__ndarray__\":\"AAAAQA3s7T8AAABADeztP////7/UwO4/////v9TA7j8=\",\"dtype\":\"float64\",\"order\":\"little\",\"shape\":[4]}},\"selected\":{\"id\":\"1854\"},\"selection_policy\":{\"id\":\"1855\"}},\"id\":\"1832\",\"type\":\"ColumnDataSource\"},{\"attributes\":{},\"id\":\"1657\",\"type\":\"WheelZoomTool\"},{\"attributes\":{},\"id\":\"1902\",\"type\":\"Selection\"},{\"attributes\":{\"overlay\":{\"id\":\"1662\"}},\"id\":\"1658\",\"type\":\"BoxZoomTool\"},{\"attributes\":{\"label\":{\"value\":\"NN width: 500\"},\"renderers\":[{\"id\":\"1835\"}]},\"id\":\"1857\",\"type\":\"LegendItem\"},{\"attributes\":{},\"id\":\"1903\",\"type\":\"UnionRenderers\"},{\"attributes\":{\"line_alpha\":0.1,\"line_color\":\"indigo\",\"line_dash\":[3],\"line_width\":2,\"x\":{\"field\":\"x\"},\"y\":{\"field\":\"y\"}},\"id\":\"1708\",\"type\":\"Line\"},{\"attributes\":{},\"id\":\"1855\",\"type\":\"UnionRenderers\"},{\"attributes\":{},\"id\":\"1659\",\"type\":\"SaveTool\"},{\"attributes\":{\"source\":{\"id\":\"1706\"}},\"id\":\"1710\",\"type\":\"CDSView\"},{\"attributes\":{},\"id\":\"1899\",\"type\":\"UnionRenderers\"},{\"attributes\":{},\"id\":\"1713\",\"type\":\"BasicTickFormatter\"},{\"attributes\":{},\"id\":\"1660\",\"type\":\"ResetTool\"},{\"attributes\":{\"source\":{\"id\":\"1832\"}},\"id\":\"1836\",\"type\":\"CDSView\"},{\"attributes\":{},\"id\":\"1887\",\"type\":\"Selection\"},{\"attributes\":{\"data_source\":{\"id\":\"1832\"},\"glyph\":{\"id\":\"1833\"},\"hover_glyph\":null,\"muted_glyph\":null,\"nonselection_glyph\":{\"id\":\"1834\"},\"view\":{\"id\":\"1836\"}},\"id\":\"1835\",\"type\":\"GlyphRenderer\"},{\"attributes\":{},\"id\":\"1714\",\"type\":\"AllLabels\"},{\"attributes\":{},\"id\":\"1607\",\"type\":\"DataRange1d\"},{\"attributes\":{\"line_alpha\":0.1,\"line_color\":\"#9467bd\",\"line_width\":2,\"x\":{\"field\":\"x\"},\"y\":{\"field\":\"y\"}},\"id\":\"1834\",\"type\":\"Line\"},{\"attributes\":{},\"id\":\"1907\",\"type\":\"UnionRenderers\"},{\"attributes\":{},\"id\":\"1661\",\"type\":\"HelpTool\"},{\"attributes\":{\"data_source\":{\"id\":\"1723\"},\"glyph\":{\"id\":\"1724\"},\"hover_glyph\":null,\"muted_glyph\":null,\"nonselection_glyph\":{\"id\":\"1725\"},\"view\":{\"id\":\"1727\"}},\"id\":\"1726\",\"type\":\"GlyphRenderer\"},{\"attributes\":{},\"id\":\"1717\",\"type\":\"AllLabels\"},{\"attributes\":{},\"id\":\"1716\",\"type\":\"BasicTickFormatter\"},{\"attributes\":{},\"id\":\"1854\",\"type\":\"Selection\"},{\"attributes\":{\"toolbar\":{\"id\":\"1938\"},\"toolbar_location\":\"above\"},\"id\":\"1939\",\"type\":\"ToolbarBox\"},{\"attributes\":{\"toolbars\":[{\"id\":\"1630\"},{\"id\":\"1663\"}],\"tools\":[{\"id\":\"1623\"},{\"id\":\"1624\"},{\"id\":\"1625\"},{\"id\":\"1626\"},{\"id\":\"1627\"},{\"id\":\"1628\"},{\"id\":\"1656\"},{\"id\":\"1657\"},{\"id\":\"1658\"},{\"id\":\"1659\"},{\"id\":\"1660\"},{\"id\":\"1661\"}]},\"id\":\"1938\",\"type\":\"ProxyToolbar\"},{\"attributes\":{},\"id\":\"1718\",\"type\":\"Selection\"},{\"attributes\":{},\"id\":\"1719\",\"type\":\"UnionRenderers\"},{\"attributes\":{},\"id\":\"1896\",\"type\":\"BasicTickFormatter\"},{\"attributes\":{\"children\":[[{\"id\":\"1604\"},0,0],[{\"id\":\"1637\"},0,1]]},\"id\":\"1937\",\"type\":\"GridBox\"},{\"attributes\":{\"line_color\":\"#8c564b\",\"line_width\":2,\"x\":{\"field\":\"x\"},\"y\":{\"field\":\"y\"}},\"id\":\"1859\",\"type\":\"Line\"},{\"attributes\":{\"label\":{\"value\":\"Gaussian Process\"},\"renderers\":[{\"id\":\"1709\"}]},\"id\":\"1722\",\"type\":\"LegendItem\"},{\"attributes\":{},\"id\":\"1893\",\"type\":\"BasicTickFormatter\"},{\"attributes\":{\"text\":\"Relative_Power-Data, Relu\"},\"id\":\"1605\",\"type\":\"Title\"},{\"attributes\":{},\"id\":\"1894\",\"type\":\"AllLabels\"},{\"attributes\":{\"data_source\":{\"id\":\"1858\"},\"glyph\":{\"id\":\"1859\"},\"hover_glyph\":null,\"muted_glyph\":null,\"nonselection_glyph\":{\"id\":\"1860\"},\"view\":{\"id\":\"1862\"}},\"id\":\"1861\",\"type\":\"GlyphRenderer\"},{\"attributes\":{\"start\":0.8},\"id\":\"1609\",\"type\":\"DataRange1d\"},{\"attributes\":{},\"id\":\"1897\",\"type\":\"AllLabels\"},{\"attributes\":{\"below\":[{\"id\":\"1648\"}],\"center\":[{\"id\":\"1651\"},{\"id\":\"1655\"},{\"id\":\"1721\"}],\"height\":350,\"left\":[{\"id\":\"1652\"}],\"renderers\":[{\"id\":\"1709\"},{\"id\":\"1731\"},{\"id\":\"1754\"},{\"id\":\"1779\"},{\"id\":\"1806\"},{\"id\":\"1835\"},{\"id\":\"1866\"}],\"sizing_mode\":\"scale_both\",\"title\":{\"id\":\"1638\"},\"toolbar\":{\"id\":\"1663\"},\"toolbar_location\":null,\"width\":400,\"x_range\":{\"id\":\"1640\"},\"x_scale\":{\"id\":\"1644\"},\"y_range\":{\"id\":\"1642\"},\"y_scale\":{\"id\":\"1646\"}},\"id\":\"1637\",\"subtype\":\"Figure\",\"type\":\"Plot\"},{\"attributes\":{\"line_alpha\":0.1,\"line_color\":\"#8c564b\",\"line_width\":2,\"x\":{\"field\":\"x\"},\"y\":{\"field\":\"y\"}},\"id\":\"1860\",\"type\":\"Line\"},{\"attributes\":{\"bottom_units\":\"screen\",\"fill_alpha\":0.5,\"fill_color\":\"lightgrey\",\"left_units\":\"screen\",\"level\":\"overlay\",\"line_alpha\":1.0,\"line_color\":\"black\",\"line_dash\":[4,4],\"line_width\":2,\"right_units\":\"screen\",\"syncable\":false,\"top_units\":\"screen\"},\"id\":\"1662\",\"type\":\"BoxAnnotation\"},{\"attributes\":{},\"id\":\"1906\",\"type\":\"Selection\"},{\"attributes\":{\"data\":{\"x\":[75,150,250,436],\"y\":{\"__ndarray__\":\"AAAA4LZt6z8AAABADeztPwAAACDirOw/////fzgr7z8=\",\"dtype\":\"float64\",\"order\":\"little\",\"shape\":[4]}},\"selected\":{\"id\":\"1900\"},\"selection_policy\":{\"id\":\"1901\"}},\"id\":\"1723\",\"type\":\"ColumnDataSource\"},{\"attributes\":{\"source\":{\"id\":\"1858\"}},\"id\":\"1862\",\"type\":\"CDSView\"}],\"root_ids\":[\"1940\"]},\"title\":\"Bokeh Application\",\"version\":\"2.3.2\"}};\n",
       "  var render_items = [{\"docid\":\"201f5a23-7037-4181-8f2d-effc1d116d3c\",\"root_ids\":[\"1940\"],\"roots\":{\"1940\":\"9bf70e94-f951-4be7-8202-a5f22a4731ab\"}}];\n",
       "  root.Bokeh.embed.embed_items_notebook(docs_json, render_items);\n",
       "\n",
       "  }\n",
       "  if (root.Bokeh !== undefined) {\n",
       "    embed_document(root);\n",
       "  } else {\n",
       "    var attempts = 0;\n",
       "    var timer = setInterval(function(root) {\n",
       "      if (root.Bokeh !== undefined) {\n",
       "        clearInterval(timer);\n",
       "        embed_document(root);\n",
       "      } else {\n",
       "        attempts++;\n",
       "        if (attempts > 100) {\n",
       "          clearInterval(timer);\n",
       "          console.log(\"Bokeh: ERROR: Unable to run BokehJS code because BokehJS library is missing\");\n",
       "        }\n",
       "      }\n",
       "    }, 10, root)\n",
       "  }\n",
       "})(window);"
      ],
      "application/vnd.bokehjs_exec.v0+json": ""
     },
     "metadata": {
      "application/vnd.bokehjs_exec.v0+json": {
       "id": "1940"
      }
     },
     "output_type": "display_data"
    }
   ],
   "source": [
    "# Plot the Relative Power results\n",
    "gp_evaluate = pd.read_csv('Results/experimental_dataRP/gp_results.csv')\n",
    "gpo_evaluate = pd.read_csv('Results/experimental_dataRP/gpo_results.csv')\n",
    "nn_evaluate = pd.read_csv('Results/experimental_dataRP/nn_results.csv')\n",
    "p, s1, s2 = plot_metric('test_accuracy', 'Test Accuracy')"
   ]
  },
  {
   "cell_type": "code",
   "execution_count": null,
   "metadata": {
    "Collapsed": "false",
    "id": "Q0BaTf8KrHdh",
    "outputId": "b34e7e7e-d1db-4355-e99f-fd79a1fe1a80"
   },
   "outputs": [],
   "source": [
    "save_bokeh(p, 'charts/mnist-acc.html')"
   ]
  },
  {
   "cell_type": "code",
   "execution_count": 15,
   "metadata": {
    "Collapsed": "false",
    "id": "Fx7dQ8i-rHdi",
    "outputId": "7287436c-a9b7-41eb-de9c-29a2f7525a83"
   },
   "outputs": [
    {
     "data": {
      "text/html": [
       "\n",
       "\n",
       "\n",
       "\n",
       "\n",
       "\n",
       "  <div class=\"bk-root\" id=\"d4457740-6698-4afc-a59c-77eb41e2557e\" data-root-id=\"2585\"></div>\n"
      ]
     },
     "metadata": {},
     "output_type": "display_data"
    },
    {
     "data": {
      "application/javascript": [
       "(function(root) {\n",
       "  function embed_document(root) {\n",
       "    \n",
       "  var docs_json = {\"d5f804da-2cea-44df-9cd0-f855e46f5286\":{\"defs\":[],\"roots\":{\"references\":[{\"attributes\":{\"children\":[{\"id\":\"2584\"},{\"id\":\"2582\"}],\"sizing_mode\":\"scale_both\"},\"id\":\"2585\",\"type\":\"Column\"},{\"attributes\":{\"line_color\":\"#8c564b\",\"line_width\":2,\"x\":{\"field\":\"x\"},\"y\":{\"field\":\"y\"}},\"id\":\"2509\",\"type\":\"Line\"},{\"attributes\":{},\"id\":\"2388\",\"type\":\"UnionRenderers\"},{\"attributes\":{\"data\":{\"x\":[75,150,250,436],\"y\":{\"__ndarray__\":\"gL1jaiY/wD9t27aNQ1iyP1n5CdFX+aQ/RQN7RxOhnj8=\",\"dtype\":\"float64\",\"order\":\"little\",\"shape\":[4]}},\"selected\":{\"id\":\"2532\"},\"selection_policy\":{\"id\":\"2533\"}},\"id\":\"2508\",\"type\":\"ColumnDataSource\"},{\"attributes\":{\"line_alpha\":0.1,\"line_color\":\"#1f77b4\",\"line_width\":2,\"x\":{\"field\":\"x\"},\"y\":{\"field\":\"y\"}},\"id\":\"2370\",\"type\":\"Line\"},{\"attributes\":{\"data_source\":{\"id\":\"2416\"},\"glyph\":{\"id\":\"2417\"},\"hover_glyph\":null,\"muted_glyph\":null,\"nonselection_glyph\":{\"id\":\"2418\"},\"view\":{\"id\":\"2420\"}},\"id\":\"2419\",\"type\":\"GlyphRenderer\"},{\"attributes\":{\"label\":{\"value\":\"NN width: 1000\"},\"renderers\":[{\"id\":\"2511\"}]},\"id\":\"2535\",\"type\":\"LegendItem\"},{\"attributes\":{\"data_source\":{\"id\":\"2368\"},\"glyph\":{\"id\":\"2369\"},\"hover_glyph\":null,\"muted_glyph\":null,\"nonselection_glyph\":{\"id\":\"2370\"},\"view\":{\"id\":\"2372\"}},\"id\":\"2371\",\"type\":\"GlyphRenderer\"},{\"attributes\":{\"source\":{\"id\":\"2416\"}},\"id\":\"2420\",\"type\":\"CDSView\"},{\"attributes\":{\"toolbar\":{\"id\":\"2583\"},\"toolbar_location\":\"above\"},\"id\":\"2584\",\"type\":\"ToolbarBox\"},{\"attributes\":{},\"id\":\"2387\",\"type\":\"Selection\"},{\"attributes\":{\"source\":{\"id\":\"2368\"}},\"id\":\"2372\",\"type\":\"CDSView\"},{\"attributes\":{\"line_color\":\"#2ca02c\",\"line_width\":2,\"x\":{\"field\":\"x\"},\"y\":{\"field\":\"y\"}},\"id\":\"2422\",\"type\":\"Line\"},{\"attributes\":{\"label\":{\"value\":\"NN width: 5\"},\"renderers\":[{\"id\":\"2376\"}]},\"id\":\"2390\",\"type\":\"LegendItem\"},{\"attributes\":{\"data\":{\"x\":[75,150,250,436],\"y\":{\"__ndarray__\":\"yE+Ic4zPwT9ddNFlMYG4PyLEWTlW6qk/P35CfLKqnD8=\",\"dtype\":\"float64\",\"order\":\"little\",\"shape\":[4]}},\"selected\":{\"id\":\"2439\"},\"selection_policy\":{\"id\":\"2440\"}},\"id\":\"2421\",\"type\":\"ColumnDataSource\"},{\"attributes\":{\"source\":{\"id\":\"2508\"}},\"id\":\"2512\",\"type\":\"CDSView\"},{\"attributes\":{\"data_source\":{\"id\":\"2508\"},\"glyph\":{\"id\":\"2509\"},\"hover_glyph\":null,\"muted_glyph\":null,\"nonselection_glyph\":{\"id\":\"2510\"},\"view\":{\"id\":\"2512\"}},\"id\":\"2511\",\"type\":\"GlyphRenderer\"},{\"attributes\":{\"overlay\":{\"id\":\"2274\"}},\"id\":\"2270\",\"type\":\"BoxZoomTool\"},{\"attributes\":{\"data\":{\"x\":[75,150,250,436],\"y\":{\"__ndarray__\":\"OxZk1IKWsj98jmooFHOmP1JmZ1wkxqE//l+6XNL9lT8=\",\"dtype\":\"float64\",\"order\":\"little\",\"shape\":[4]}},\"selected\":{\"id\":\"2363\"},\"selection_policy\":{\"id\":\"2364\"}},\"id\":\"2351\",\"type\":\"ColumnDataSource\"},{\"attributes\":{\"line_alpha\":0.1,\"line_color\":\"#8c564b\",\"line_width\":2,\"x\":{\"field\":\"x\"},\"y\":{\"field\":\"y\"}},\"id\":\"2510\",\"type\":\"Line\"},{\"attributes\":{\"label\":{\"value\":\"NN width: 50\"},\"renderers\":[{\"id\":\"2424\"}]},\"id\":\"2442\",\"type\":\"LegendItem\"},{\"attributes\":{\"line_color\":\"#ff7f0e\",\"line_width\":2,\"x\":{\"field\":\"x\"},\"y\":{\"field\":\"y\"}},\"id\":\"2392\",\"type\":\"Line\"},{\"attributes\":{},\"id\":\"2269\",\"type\":\"WheelZoomTool\"},{\"attributes\":{},\"id\":\"2532\",\"type\":\"Selection\"},{\"attributes\":{\"data\":{\"x\":[75,150,250,436],\"y\":{\"__ndarray__\":\"OxZk1IKWsj98jmooFHOmP1JmZ1wkxqE//l+6XNL9lT8=\",\"dtype\":\"float64\",\"order\":\"little\",\"shape\":[4]}},\"selected\":{\"id\":\"2543\"},\"selection_policy\":{\"id\":\"2544\"}},\"id\":\"2346\",\"type\":\"ColumnDataSource\"},{\"attributes\":{},\"id\":\"2533\",\"type\":\"UnionRenderers\"},{\"attributes\":{\"data\":{\"x\":[75,150,250,436],\"y\":{\"__ndarray__\":\"c9FFZ1MIyD+gEGcley63P/n//19VPqw/ovyEuKkvpT8=\",\"dtype\":\"float64\",\"order\":\"little\",\"shape\":[4]}},\"selected\":{\"id\":\"2547\"},\"selection_policy\":{\"id\":\"2548\"}},\"id\":\"2391\",\"type\":\"ColumnDataSource\"},{\"attributes\":{\"line_color\":\"indigo\",\"line_dash\":[3],\"line_width\":2,\"x\":{\"field\":\"x\"},\"y\":{\"field\":\"y\"}},\"id\":\"2352\",\"type\":\"Line\"},{\"attributes\":{\"data_source\":{\"id\":\"2346\"},\"glyph\":{\"id\":\"2347\"},\"hover_glyph\":null,\"muted_glyph\":null,\"nonselection_glyph\":{\"id\":\"2348\"},\"view\":{\"id\":\"2350\"}},\"id\":\"2349\",\"type\":\"GlyphRenderer\"},{\"attributes\":{\"source\":{\"id\":\"2421\"}},\"id\":\"2425\",\"type\":\"CDSView\"},{\"attributes\":{\"data_source\":{\"id\":\"2421\"},\"glyph\":{\"id\":\"2422\"},\"hover_glyph\":null,\"muted_glyph\":null,\"nonselection_glyph\":{\"id\":\"2423\"},\"view\":{\"id\":\"2425\"}},\"id\":\"2424\",\"type\":\"GlyphRenderer\"},{\"attributes\":{\"line_alpha\":0.1,\"line_color\":\"#2ca02c\",\"line_width\":2,\"x\":{\"field\":\"x\"},\"y\":{\"field\":\"y\"}},\"id\":\"2423\",\"type\":\"Line\"},{\"attributes\":{\"data\":{\"x\":[75,150,250,436],\"y\":{\"__ndarray__\":\"Wu+Y2lhauT9UfkK8I7K7P4MuusiipK8/uWNqgGqdqz8=\",\"dtype\":\"float64\",\"order\":\"little\",\"shape\":[4]}},\"selected\":{\"id\":\"2549\"},\"selection_policy\":{\"id\":\"2550\"}},\"id\":\"2416\",\"type\":\"ColumnDataSource\"},{\"attributes\":{},\"id\":\"2538\",\"type\":\"BasicTickFormatter\"},{\"attributes\":{\"line_alpha\":0.1,\"line_color\":\"indigo\",\"line_dash\":[3],\"line_width\":2,\"x\":{\"field\":\"x\"},\"y\":{\"field\":\"y\"}},\"id\":\"2348\",\"type\":\"Line\"},{\"attributes\":{},\"id\":\"2439\",\"type\":\"Selection\"},{\"attributes\":{\"source\":{\"id\":\"2346\"}},\"id\":\"2350\",\"type\":\"CDSView\"},{\"attributes\":{},\"id\":\"2539\",\"type\":\"AllLabels\"},{\"attributes\":{},\"id\":\"2440\",\"type\":\"UnionRenderers\"},{\"attributes\":{\"line_color\":\"#d62728\",\"line_width\":2,\"x\":{\"field\":\"x\"},\"y\":{\"field\":\"y\"}},\"id\":\"2444\",\"type\":\"Line\"},{\"attributes\":{},\"id\":\"2541\",\"type\":\"BasicTickFormatter\"},{\"attributes\":{\"active_multi\":null,\"tools\":[{\"id\":\"2268\"},{\"id\":\"2269\"},{\"id\":\"2270\"},{\"id\":\"2271\"},{\"id\":\"2272\"},{\"id\":\"2273\"}]},\"id\":\"2275\",\"type\":\"Toolbar\"},{\"attributes\":{\"items\":[{\"id\":\"2367\"},{\"id\":\"2390\"},{\"id\":\"2415\"},{\"id\":\"2442\"},{\"id\":\"2471\"},{\"id\":\"2502\"},{\"id\":\"2535\"}],\"label_text_font_size\":\"9px\",\"spacing\":-10},\"id\":\"2366\",\"type\":\"Legend\"},{\"attributes\":{\"data_source\":{\"id\":\"2351\"},\"glyph\":{\"id\":\"2352\"},\"hover_glyph\":null,\"muted_glyph\":null,\"nonselection_glyph\":{\"id\":\"2353\"},\"view\":{\"id\":\"2355\"}},\"id\":\"2354\",\"type\":\"GlyphRenderer\"},{\"attributes\":{\"source\":{\"id\":\"2391\"}},\"id\":\"2395\",\"type\":\"CDSView\"},{\"attributes\":{},\"id\":\"2542\",\"type\":\"AllLabels\"},{\"attributes\":{\"data_source\":{\"id\":\"2391\"},\"glyph\":{\"id\":\"2392\"},\"hover_glyph\":null,\"muted_glyph\":null,\"nonselection_glyph\":{\"id\":\"2393\"},\"view\":{\"id\":\"2395\"}},\"id\":\"2394\",\"type\":\"GlyphRenderer\"},{\"attributes\":{\"axis_label\":\"Mean Squared Error\",\"formatter\":{\"id\":\"2538\"},\"major_label_policy\":{\"id\":\"2539\"},\"ticker\":{\"id\":\"2265\"}},\"id\":\"2264\",\"type\":\"LinearAxis\"},{\"attributes\":{\"data\":{\"x\":[75,150,250,436],\"y\":{\"__ndarray__\":\"pQb2zoJxvj9NA3tXPKC2P13vmLqrPrI/VHTRRZ5Qpz8=\",\"dtype\":\"float64\",\"order\":\"little\",\"shape\":[4]}},\"selected\":{\"id\":\"2551\"},\"selection_policy\":{\"id\":\"2552\"}},\"id\":\"2443\",\"type\":\"ColumnDataSource\"},{\"attributes\":{\"line_alpha\":0.1,\"line_color\":\"#ff7f0e\",\"line_width\":2,\"x\":{\"field\":\"x\"},\"y\":{\"field\":\"y\"}},\"id\":\"2393\",\"type\":\"Line\"},{\"attributes\":{},\"id\":\"2291\",\"type\":\"LinearScale\"},{\"attributes\":{},\"id\":\"2265\",\"type\":\"BasicTicker\"},{\"attributes\":{},\"id\":\"2543\",\"type\":\"Selection\"},{\"attributes\":{},\"id\":\"2544\",\"type\":\"UnionRenderers\"},{\"attributes\":{\"line_alpha\":0.1,\"line_color\":\"indigo\",\"line_dash\":[3],\"line_width\":2,\"x\":{\"field\":\"x\"},\"y\":{\"field\":\"y\"}},\"id\":\"2353\",\"type\":\"Line\"},{\"attributes\":{\"line_color\":\"#ff7f0e\",\"line_width\":2,\"x\":{\"field\":\"x\"},\"y\":{\"field\":\"y\"}},\"id\":\"2397\",\"type\":\"Line\"},{\"attributes\":{\"source\":{\"id\":\"2351\"}},\"id\":\"2355\",\"type\":\"CDSView\"},{\"attributes\":{},\"id\":\"2545\",\"type\":\"Selection\"},{\"attributes\":{},\"id\":\"2285\",\"type\":\"DataRange1d\"},{\"attributes\":{\"data\":{\"x\":[75,150,250,436],\"y\":{\"__ndarray__\":\"adu2rSCDuz+XlZ+Q11WwP+EdU3OoO6E/3R1Ti/1amT8=\",\"dtype\":\"float64\",\"order\":\"little\",\"shape\":[4]}},\"selected\":{\"id\":\"2412\"},\"selection_policy\":{\"id\":\"2413\"}},\"id\":\"2396\",\"type\":\"ColumnDataSource\"},{\"attributes\":{},\"id\":\"2358\",\"type\":\"BasicTickFormatter\"},{\"attributes\":{\"start\":0},\"id\":\"2287\",\"type\":\"DataRange1d\"},{\"attributes\":{\"line_color\":\"#d62728\",\"line_width\":2,\"x\":{\"field\":\"x\"},\"y\":{\"field\":\"y\"}},\"id\":\"2449\",\"type\":\"Line\"},{\"attributes\":{},\"id\":\"2546\",\"type\":\"UnionRenderers\"},{\"attributes\":{},\"id\":\"2359\",\"type\":\"AllLabels\"},{\"attributes\":{\"label\":{\"value\":\"NN width: 10\"},\"renderers\":[{\"id\":\"2399\"}]},\"id\":\"2415\",\"type\":\"LegendItem\"},{\"attributes\":{},\"id\":\"2547\",\"type\":\"Selection\"},{\"attributes\":{\"text\":\"Relative_Power-Data, Relu\"},\"id\":\"2250\",\"type\":\"Title\"},{\"attributes\":{},\"id\":\"2362\",\"type\":\"AllLabels\"},{\"attributes\":{},\"id\":\"2361\",\"type\":\"BasicTickFormatter\"},{\"attributes\":{},\"id\":\"2548\",\"type\":\"UnionRenderers\"},{\"attributes\":{},\"id\":\"2268\",\"type\":\"PanTool\"},{\"attributes\":{\"source\":{\"id\":\"2443\"}},\"id\":\"2447\",\"type\":\"CDSView\"},{\"attributes\":{\"data_source\":{\"id\":\"2443\"},\"glyph\":{\"id\":\"2444\"},\"hover_glyph\":null,\"muted_glyph\":null,\"nonselection_glyph\":{\"id\":\"2445\"},\"view\":{\"id\":\"2447\"}},\"id\":\"2446\",\"type\":\"GlyphRenderer\"},{\"attributes\":{},\"id\":\"2252\",\"type\":\"DataRange1d\"},{\"attributes\":{},\"id\":\"2549\",\"type\":\"Selection\"},{\"attributes\":{\"line_alpha\":0.1,\"line_color\":\"#d62728\",\"line_width\":2,\"x\":{\"field\":\"x\"},\"y\":{\"field\":\"y\"}},\"id\":\"2445\",\"type\":\"Line\"},{\"attributes\":{\"source\":{\"id\":\"2396\"}},\"id\":\"2400\",\"type\":\"CDSView\"},{\"attributes\":{\"data_source\":{\"id\":\"2396\"},\"glyph\":{\"id\":\"2397\"},\"hover_glyph\":null,\"muted_glyph\":null,\"nonselection_glyph\":{\"id\":\"2398\"},\"view\":{\"id\":\"2400\"}},\"id\":\"2399\",\"type\":\"GlyphRenderer\"},{\"attributes\":{},\"id\":\"2550\",\"type\":\"UnionRenderers\"},{\"attributes\":{},\"id\":\"2363\",\"type\":\"Selection\"},{\"attributes\":{\"axis\":{\"id\":\"2260\"},\"ticker\":null},\"id\":\"2263\",\"type\":\"Grid\"},{\"attributes\":{\"line_alpha\":0.1,\"line_color\":\"#ff7f0e\",\"line_width\":2,\"x\":{\"field\":\"x\"},\"y\":{\"field\":\"y\"}},\"id\":\"2398\",\"type\":\"Line\"},{\"attributes\":{},\"id\":\"2364\",\"type\":\"UnionRenderers\"},{\"attributes\":{},\"id\":\"2551\",\"type\":\"Selection\"},{\"attributes\":{\"children\":[[{\"id\":\"2249\"},0,0],[{\"id\":\"2282\"},0,1]]},\"id\":\"2582\",\"type\":\"GridBox\"},{\"attributes\":{},\"id\":\"2271\",\"type\":\"SaveTool\"},{\"attributes\":{\"label\":{\"value\":\"Gaussian Process\"},\"renderers\":[{\"id\":\"2354\"}]},\"id\":\"2367\",\"type\":\"LegendItem\"},{\"attributes\":{},\"id\":\"2552\",\"type\":\"UnionRenderers\"},{\"attributes\":{},\"id\":\"2412\",\"type\":\"Selection\"},{\"attributes\":{},\"id\":\"2256\",\"type\":\"LinearScale\"},{\"attributes\":{\"source\":{\"id\":\"2373\"}},\"id\":\"2377\",\"type\":\"CDSView\"},{\"attributes\":{\"data\":{\"x\":[75,150,250,436],\"y\":{\"__ndarray__\":\"9wlx1oRzvj+fEGclgzK3P9U7pvYy+qI/aVZ+Yq/vlz8=\",\"dtype\":\"float64\",\"order\":\"little\",\"shape\":[4]}},\"selected\":{\"id\":\"2468\"},\"selection_policy\":{\"id\":\"2469\"}},\"id\":\"2448\",\"type\":\"ColumnDataSource\"},{\"attributes\":{},\"id\":\"2413\",\"type\":\"UnionRenderers\"},{\"attributes\":{\"below\":[{\"id\":\"2293\"}],\"center\":[{\"id\":\"2296\"},{\"id\":\"2300\"},{\"id\":\"2366\"}],\"height\":350,\"left\":[{\"id\":\"2297\"}],\"renderers\":[{\"id\":\"2354\"},{\"id\":\"2376\"},{\"id\":\"2399\"},{\"id\":\"2424\"},{\"id\":\"2451\"},{\"id\":\"2480\"},{\"id\":\"2511\"}],\"sizing_mode\":\"scale_both\",\"title\":{\"id\":\"2283\"},\"toolbar\":{\"id\":\"2308\"},\"toolbar_location\":null,\"width\":400,\"x_range\":{\"id\":\"2285\"},\"x_scale\":{\"id\":\"2289\"},\"y_range\":{\"id\":\"2287\"},\"y_scale\":{\"id\":\"2291\"}},\"id\":\"2282\",\"subtype\":\"Figure\",\"type\":\"Plot\"},{\"attributes\":{},\"id\":\"2553\",\"type\":\"Selection\"},{\"attributes\":{},\"id\":\"2273\",\"type\":\"HelpTool\"},{\"attributes\":{},\"id\":\"2468\",\"type\":\"Selection\"},{\"attributes\":{\"data_source\":{\"id\":\"2373\"},\"glyph\":{\"id\":\"2374\"},\"hover_glyph\":null,\"muted_glyph\":null,\"nonselection_glyph\":{\"id\":\"2375\"},\"view\":{\"id\":\"2377\"}},\"id\":\"2376\",\"type\":\"GlyphRenderer\"},{\"attributes\":{},\"id\":\"2289\",\"type\":\"LinearScale\"},{\"attributes\":{\"line_color\":\"#2ca02c\",\"line_width\":2,\"x\":{\"field\":\"x\"},\"y\":{\"field\":\"y\"}},\"id\":\"2417\",\"type\":\"Line\"},{\"attributes\":{},\"id\":\"2554\",\"type\":\"UnionRenderers\"},{\"attributes\":{},\"id\":\"2272\",\"type\":\"ResetTool\"},{\"attributes\":{\"line_color\":\"#1f77b4\",\"line_width\":2,\"x\":{\"field\":\"x\"},\"y\":{\"field\":\"y\"}},\"id\":\"2369\",\"type\":\"Line\"},{\"attributes\":{\"line_alpha\":0.1,\"line_color\":\"#1f77b4\",\"line_width\":2,\"x\":{\"field\":\"x\"},\"y\":{\"field\":\"y\"}},\"id\":\"2375\",\"type\":\"Line\"},{\"attributes\":{},\"id\":\"2555\",\"type\":\"Selection\"},{\"attributes\":{\"start\":0},\"id\":\"2254\",\"type\":\"DataRange1d\"},{\"attributes\":{},\"id\":\"2556\",\"type\":\"UnionRenderers\"},{\"attributes\":{\"axis_label\":\"Training Dataset Size\",\"formatter\":{\"id\":\"2541\"},\"major_label_policy\":{\"id\":\"2542\"},\"ticker\":{\"id\":\"2261\"}},\"id\":\"2260\",\"type\":\"LinearAxis\"},{\"attributes\":{\"source\":{\"id\":\"2448\"}},\"id\":\"2452\",\"type\":\"CDSView\"},{\"attributes\":{\"data_source\":{\"id\":\"2448\"},\"glyph\":{\"id\":\"2449\"},\"hover_glyph\":null,\"muted_glyph\":null,\"nonselection_glyph\":{\"id\":\"2450\"},\"view\":{\"id\":\"2452\"}},\"id\":\"2451\",\"type\":\"GlyphRenderer\"},{\"attributes\":{\"data\":{\"x\":[75,150,250,436],\"y\":{\"__ndarray__\":\"PpyVP9lLtz/C1MDOiMC0PxZTA/PWrKk/mRrYm+jukj8=\",\"dtype\":\"float64\",\"order\":\"little\",\"shape\":[4]}},\"selected\":{\"id\":\"2545\"},\"selection_policy\":{\"id\":\"2546\"}},\"id\":\"2368\",\"type\":\"ColumnDataSource\"},{\"attributes\":{},\"id\":\"2261\",\"type\":\"BasicTicker\"},{\"attributes\":{\"axis\":{\"id\":\"2264\"},\"dimension\":1,\"ticker\":null},\"id\":\"2267\",\"type\":\"Grid\"},{\"attributes\":{\"line_alpha\":0.1,\"line_color\":\"#d62728\",\"line_width\":2,\"x\":{\"field\":\"x\"},\"y\":{\"field\":\"y\"}},\"id\":\"2450\",\"type\":\"Line\"},{\"attributes\":{},\"id\":\"2258\",\"type\":\"LinearScale\"},{\"attributes\":{\"line_alpha\":0.1,\"line_color\":\"#2ca02c\",\"line_width\":2,\"x\":{\"field\":\"x\"},\"y\":{\"field\":\"y\"}},\"id\":\"2418\",\"type\":\"Line\"},{\"attributes\":{\"toolbars\":[{\"id\":\"2275\"},{\"id\":\"2308\"}],\"tools\":[{\"id\":\"2268\"},{\"id\":\"2269\"},{\"id\":\"2270\"},{\"id\":\"2271\"},{\"id\":\"2272\"},{\"id\":\"2273\"},{\"id\":\"2301\"},{\"id\":\"2302\"},{\"id\":\"2303\"},{\"id\":\"2304\"},{\"id\":\"2305\"},{\"id\":\"2306\"}]},\"id\":\"2583\",\"type\":\"ProxyToolbar\"},{\"attributes\":{\"text\":\"Relative_Power-Data, Tanh\"},\"id\":\"2283\",\"type\":\"Title\"},{\"attributes\":{\"label\":{\"value\":\"NN width: 100\"},\"renderers\":[{\"id\":\"2451\"}]},\"id\":\"2471\",\"type\":\"LegendItem\"},{\"attributes\":{},\"id\":\"2469\",\"type\":\"UnionRenderers\"},{\"attributes\":{\"data\":{\"x\":[75,150,250,436],\"y\":{\"__ndarray__\":\"3TE1kK1uwj96x9RIr72wP4Kz8nOqjaY/XuUnJBqRoD8=\",\"dtype\":\"float64\",\"order\":\"little\",\"shape\":[4]}},\"selected\":{\"id\":\"2553\"},\"selection_policy\":{\"id\":\"2554\"}},\"id\":\"2472\",\"type\":\"ColumnDataSource\"},{\"attributes\":{\"bottom_units\":\"screen\",\"fill_alpha\":0.5,\"fill_color\":\"lightgrey\",\"left_units\":\"screen\",\"level\":\"overlay\",\"line_alpha\":1.0,\"line_color\":\"black\",\"line_dash\":[4,4],\"line_width\":2,\"right_units\":\"screen\",\"syncable\":false,\"top_units\":\"screen\"},\"id\":\"2274\",\"type\":\"BoxAnnotation\"},{\"attributes\":{\"line_color\":\"#9467bd\",\"line_width\":2,\"x\":{\"field\":\"x\"},\"y\":{\"field\":\"y\"}},\"id\":\"2473\",\"type\":\"Line\"},{\"attributes\":{\"data\":{\"x\":[75,150,250,436],\"y\":{\"__ndarray__\":\"56KLrmYVxT8b2DtGtwOqPxfYO7YqXKY/V2pgr8jumD8=\",\"dtype\":\"float64\",\"order\":\"little\",\"shape\":[4]}},\"selected\":{\"id\":\"2555\"},\"selection_policy\":{\"id\":\"2556\"}},\"id\":\"2503\",\"type\":\"ColumnDataSource\"},{\"attributes\":{\"axis_label\":\"Training Dataset Size\",\"formatter\":{\"id\":\"2361\"},\"major_label_policy\":{\"id\":\"2362\"},\"ticker\":{\"id\":\"2294\"}},\"id\":\"2293\",\"type\":\"LinearAxis\"},{\"attributes\":{\"axis\":{\"id\":\"2297\"},\"dimension\":1,\"ticker\":null},\"id\":\"2300\",\"type\":\"Grid\"},{\"attributes\":{},\"id\":\"2294\",\"type\":\"BasicTicker\"},{\"attributes\":{\"source\":{\"id\":\"2472\"}},\"id\":\"2476\",\"type\":\"CDSView\"},{\"attributes\":{\"axis\":{\"id\":\"2293\"},\"ticker\":null},\"id\":\"2296\",\"type\":\"Grid\"},{\"attributes\":{\"data_source\":{\"id\":\"2472\"},\"glyph\":{\"id\":\"2473\"},\"hover_glyph\":null,\"muted_glyph\":null,\"nonselection_glyph\":{\"id\":\"2474\"},\"view\":{\"id\":\"2476\"}},\"id\":\"2475\",\"type\":\"GlyphRenderer\"},{\"attributes\":{\"line_alpha\":0.1,\"line_color\":\"#9467bd\",\"line_width\":2,\"x\":{\"field\":\"x\"},\"y\":{\"field\":\"y\"}},\"id\":\"2474\",\"type\":\"Line\"},{\"attributes\":{},\"id\":\"2298\",\"type\":\"BasicTicker\"},{\"attributes\":{\"formatter\":{\"id\":\"2358\"},\"major_label_policy\":{\"id\":\"2359\"},\"ticker\":{\"id\":\"2298\"}},\"id\":\"2297\",\"type\":\"LinearAxis\"},{\"attributes\":{\"line_color\":\"#9467bd\",\"line_width\":2,\"x\":{\"field\":\"x\"},\"y\":{\"field\":\"y\"}},\"id\":\"2478\",\"type\":\"Line\"},{\"attributes\":{\"line_color\":\"#1f77b4\",\"line_width\":2,\"x\":{\"field\":\"x\"},\"y\":{\"field\":\"y\"}},\"id\":\"2374\",\"type\":\"Line\"},{\"attributes\":{\"data\":{\"x\":[75,150,250,436],\"y\":{\"__ndarray__\":\"c9FFd6CFwD/RRRfdkWW0P1CIs9IMM6E/eb1j6v0joz8=\",\"dtype\":\"float64\",\"order\":\"little\",\"shape\":[4]}},\"selected\":{\"id\":\"2499\"},\"selection_policy\":{\"id\":\"2500\"}},\"id\":\"2477\",\"type\":\"ColumnDataSource\"},{\"attributes\":{\"label\":{\"value\":\"NN width: 500\"},\"renderers\":[{\"id\":\"2480\"}]},\"id\":\"2502\",\"type\":\"LegendItem\"},{\"attributes\":{},\"id\":\"2500\",\"type\":\"UnionRenderers\"},{\"attributes\":{},\"id\":\"2301\",\"type\":\"PanTool\"},{\"attributes\":{},\"id\":\"2302\",\"type\":\"WheelZoomTool\"},{\"attributes\":{\"source\":{\"id\":\"2477\"}},\"id\":\"2481\",\"type\":\"CDSView\"},{\"attributes\":{\"data_source\":{\"id\":\"2477\"},\"glyph\":{\"id\":\"2478\"},\"hover_glyph\":null,\"muted_glyph\":null,\"nonselection_glyph\":{\"id\":\"2479\"},\"view\":{\"id\":\"2481\"}},\"id\":\"2480\",\"type\":\"GlyphRenderer\"},{\"attributes\":{\"overlay\":{\"id\":\"2307\"}},\"id\":\"2303\",\"type\":\"BoxZoomTool\"},{\"attributes\":{\"line_alpha\":0.1,\"line_color\":\"#9467bd\",\"line_width\":2,\"x\":{\"field\":\"x\"},\"y\":{\"field\":\"y\"}},\"id\":\"2479\",\"type\":\"Line\"},{\"attributes\":{},\"id\":\"2304\",\"type\":\"SaveTool\"},{\"attributes\":{},\"id\":\"2499\",\"type\":\"Selection\"},{\"attributes\":{},\"id\":\"2305\",\"type\":\"ResetTool\"},{\"attributes\":{},\"id\":\"2306\",\"type\":\"HelpTool\"},{\"attributes\":{\"active_multi\":null,\"tools\":[{\"id\":\"2301\"},{\"id\":\"2302\"},{\"id\":\"2303\"},{\"id\":\"2304\"},{\"id\":\"2305\"},{\"id\":\"2306\"}]},\"id\":\"2308\",\"type\":\"Toolbar\"},{\"attributes\":{\"below\":[{\"id\":\"2260\"}],\"center\":[{\"id\":\"2263\"},{\"id\":\"2267\"}],\"height\":350,\"left\":[{\"id\":\"2264\"}],\"renderers\":[{\"id\":\"2349\"},{\"id\":\"2371\"},{\"id\":\"2394\"},{\"id\":\"2419\"},{\"id\":\"2446\"},{\"id\":\"2475\"},{\"id\":\"2506\"}],\"sizing_mode\":\"scale_both\",\"title\":{\"id\":\"2250\"},\"toolbar\":{\"id\":\"2275\"},\"toolbar_location\":null,\"width\":400,\"x_range\":{\"id\":\"2252\"},\"x_scale\":{\"id\":\"2256\"},\"y_range\":{\"id\":\"2254\"},\"y_scale\":{\"id\":\"2258\"}},\"id\":\"2249\",\"subtype\":\"Figure\",\"type\":\"Plot\"},{\"attributes\":{\"line_color\":\"#8c564b\",\"line_width\":2,\"x\":{\"field\":\"x\"},\"y\":{\"field\":\"y\"}},\"id\":\"2504\",\"type\":\"Line\"},{\"attributes\":{\"line_color\":\"indigo\",\"line_dash\":[3],\"line_width\":2,\"x\":{\"field\":\"x\"},\"y\":{\"field\":\"y\"}},\"id\":\"2347\",\"type\":\"Line\"},{\"attributes\":{\"source\":{\"id\":\"2503\"}},\"id\":\"2507\",\"type\":\"CDSView\"},{\"attributes\":{\"data_source\":{\"id\":\"2503\"},\"glyph\":{\"id\":\"2504\"},\"hover_glyph\":null,\"muted_glyph\":null,\"nonselection_glyph\":{\"id\":\"2505\"},\"view\":{\"id\":\"2507\"}},\"id\":\"2506\",\"type\":\"GlyphRenderer\"},{\"attributes\":{\"line_alpha\":0.1,\"line_color\":\"#8c564b\",\"line_width\":2,\"x\":{\"field\":\"x\"},\"y\":{\"field\":\"y\"}},\"id\":\"2505\",\"type\":\"Line\"},{\"attributes\":{\"data\":{\"x\":[75,150,250,436],\"y\":{\"__ndarray__\":\"h7PyYz9Usz8usHdMv5yjP90T4ixFSpc/C110AbI6mT8=\",\"dtype\":\"float64\",\"order\":\"little\",\"shape\":[4]}},\"selected\":{\"id\":\"2387\"},\"selection_policy\":{\"id\":\"2388\"}},\"id\":\"2373\",\"type\":\"ColumnDataSource\"},{\"attributes\":{\"bottom_units\":\"screen\",\"fill_alpha\":0.5,\"fill_color\":\"lightgrey\",\"left_units\":\"screen\",\"level\":\"overlay\",\"line_alpha\":1.0,\"line_color\":\"black\",\"line_dash\":[4,4],\"line_width\":2,\"right_units\":\"screen\",\"syncable\":false,\"top_units\":\"screen\"},\"id\":\"2307\",\"type\":\"BoxAnnotation\"}],\"root_ids\":[\"2585\"]},\"title\":\"Bokeh Application\",\"version\":\"2.3.2\"}};\n",
       "  var render_items = [{\"docid\":\"d5f804da-2cea-44df-9cd0-f855e46f5286\",\"root_ids\":[\"2585\"],\"roots\":{\"2585\":\"d4457740-6698-4afc-a59c-77eb41e2557e\"}}];\n",
       "  root.Bokeh.embed.embed_items_notebook(docs_json, render_items);\n",
       "\n",
       "  }\n",
       "  if (root.Bokeh !== undefined) {\n",
       "    embed_document(root);\n",
       "  } else {\n",
       "    var attempts = 0;\n",
       "    var timer = setInterval(function(root) {\n",
       "      if (root.Bokeh !== undefined) {\n",
       "        clearInterval(timer);\n",
       "        embed_document(root);\n",
       "      } else {\n",
       "        attempts++;\n",
       "        if (attempts > 100) {\n",
       "          clearInterval(timer);\n",
       "          console.log(\"Bokeh: ERROR: Unable to run BokehJS code because BokehJS library is missing\");\n",
       "        }\n",
       "      }\n",
       "    }, 10, root)\n",
       "  }\n",
       "})(window);"
      ],
      "application/vnd.bokehjs_exec.v0+json": ""
     },
     "metadata": {
      "application/vnd.bokehjs_exec.v0+json": {
       "id": "2585"
      }
     },
     "output_type": "display_data"
    }
   ],
   "source": [
    "p = plot_metric('test_mse', 'Mean Squared Error', legend_loc='top_right')"
   ]
  },
  {
   "cell_type": "code",
   "execution_count": null,
   "metadata": {
    "Collapsed": "false",
    "id": "X97nL5purHdj",
    "outputId": "400b0d60-d0a5-442c-a9c0-4d3cc1140de0"
   },
   "outputs": [],
   "source": [
    "save_bokeh(p, 'charts/mnist-loss.html')"
   ]
  },
  {
   "cell_type": "code",
   "execution_count": null,
   "metadata": {
    "Collapsed": "false",
    "id": "C7qHZYY4rHdj"
   },
   "outputs": [],
   "source": []
  }
 ],
 "metadata": {
  "colab": {
   "name": "nngp_experiments.ipynb",
   "provenance": []
  },
  "kernelspec": {
   "display_name": "Python 3",
   "language": "python",
   "name": "python3"
  },
  "language_info": {
   "codemirror_mode": {
    "name": "ipython",
    "version": 3
   },
   "file_extension": ".py",
   "mimetype": "text/x-python",
   "name": "python",
   "nbconvert_exporter": "python",
   "pygments_lexer": "ipython3",
   "version": "3.8.5"
  },
  "toc": {
   "base_numbering": 1,
   "nav_menu": {},
   "number_sections": true,
   "sideBar": true,
   "skip_h1_title": true,
   "title_cell": "Table of Contents",
   "title_sidebar": "Contents",
   "toc_cell": false,
   "toc_position": {},
   "toc_section_display": true,
   "toc_window_display": false
  },
  "varInspector": {
   "cols": {
    "lenName": 16,
    "lenType": 16,
    "lenVar": 40
   },
   "kernels_config": {
    "python": {
     "delete_cmd_postfix": "",
     "delete_cmd_prefix": "del ",
     "library": "var_list.py",
     "varRefreshCmd": "print(var_dic_list())"
    },
    "r": {
     "delete_cmd_postfix": ") ",
     "delete_cmd_prefix": "rm(",
     "library": "var_list.r",
     "varRefreshCmd": "cat(var_dic_list()) "
    }
   },
   "types_to_exclude": [
    "module",
    "function",
    "builtin_function_or_method",
    "instance",
    "_Feature"
   ],
   "window_display": false
  }
 },
 "nbformat": 4,
 "nbformat_minor": 1
}
